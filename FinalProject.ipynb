{
 "cells": [
  {
   "cell_type": "markdown",
   "metadata": {},
   "source": [
    "# COGS 108 - Final Project "
   ]
  },
  {
   "cell_type": "markdown",
   "metadata": {},
   "source": [
    "# Overview"
   ]
  },
  {
   "cell_type": "markdown",
   "metadata": {},
   "source": [
    "In this project, we analyzed county-level results of US presidential elections from 2000-2016 and the strength of the correlation of partisan vote share with 2 factors over time. Specifically, for each year, we calculated the strength of the correlation between partisan swings with population density as well as racial diversity. This enabled us to see which factors have strongly (or less strongly) correlated over time. This will help tell if a certain variable is a better predictor of a county's vote over time and could even predict patterns in the upcoming 2020 election."
   ]
  },
  {
   "cell_type": "markdown",
   "metadata": {},
   "source": [
    "# Names\n",
    "\n",
    "- Nancy Bui\n",
    "- Jayvee Inthisone\n",
    "- Katarina Stefanovic\n",
    "- Allison Tietz\n",
    "- Frank Zhou"
   ]
  },
  {
   "cell_type": "markdown",
   "metadata": {},
   "source": [
    "# Group Members IDs\n",
    "\n",
    "- A13669676\n",
    "- A13218641\n",
    "- A14084974\n",
    "- A14854110\n",
    "- A14672642"
   ]
  },
  {
   "cell_type": "markdown",
   "metadata": {},
   "source": [
    "# Research Question"
   ]
  },
  {
   "cell_type": "markdown",
   "metadata": {},
   "source": [
    "How are presidential election margins in each county correlated with county population density and racial makeup and which factors have correlated more strongly (or less) over time? Also, has the strength of each of these factors' correlations with margins of victory changed over time?"
   ]
  },
  {
   "cell_type": "markdown",
   "metadata": {},
   "source": [
    "## Background and Prior Work"
   ]
  },
  {
   "cell_type": "markdown",
   "metadata": {},
   "source": [
    "Presidential election results from different years show that large portions of the country have drastically changed their party allegiances over time. In swing states, those changes can be fast and volatile. For example, it can be seen that voting patterns in midwestern states has shifted from voting reliably for democratic candidates to suddenly voting for republican ones in this past election. In contrast to those changes, urban areas across the nation like the metropolitan Atlanta area and Orange County, California have traditionally backed Republican candidates, but are now voting more Democratic at the federal level. Analyzing changes in voting patterns of the United States on a county level – particularly in swing states and the so-called “rust belt” region – will provide valuable information in where candidates should focus their campaign efforts during election season. \n",
    "\n",
    "On a state level, some states that have voted reliably Democratic in the past are now firmly Republican, like West Virginia. On the other hand, formerly Republican states and strongholds like Virginia have now become primarily Democratic states. Appalachia and the American south have seen some of the largest swings toward Republican candidates in recent years, while the states on the coasts have seen the largest swings toward Democrats. Since the controversial 2000 presidential election, some states have gone back and forth each election cycle. Many states have “pivot counties,” which may be a deciding factor in how a state votes. The changes of a particular state like Ohio – a perennial swing state that voted extremely Republican in 2016 – should be quantified to answer questions candidates may have such as, “Is it still worth it to campaign in Ohio, or should I start campaigning in a Democratically trending state like Georgia?” Tracks of these patterns over time can provide valuable practical information for future campaigns.\n",
    "\n",
    "References (include links):\n",
    "- 1) https://www.270towin.com/states/West_Virginia\n",
    "- 2) https://www.270towin.com/states/"
   ]
  },
  {
   "cell_type": "markdown",
   "metadata": {},
   "source": [
    "# Hypothesis\n"
   ]
  },
  {
   "cell_type": "markdown",
   "metadata": {},
   "source": [
    "Our hypothesis is that the racial demographics of an area will have a stronger correlation with election margins of victory than the population density of an area, and that over time, both correlations will become stronger, revealing a sharp increase in partisanship over time.\n",
    "\n",
    "We chose this hypothesis because in each presidential year since 2000, the Democratic margin of victory in each county has been increasingly positively in correlated with higher population density and more racial diversity. There seems to be a sharp increase in the strength of these correlations in the 2016 election. However, this is just an eye-test, and we are using this data analysis to see if it is really true or not. We specifically took this hypothesis as our stance because of the way we have perceived politics and everything that we know to be true in the political sphere."
   ]
  },
  {
   "cell_type": "markdown",
   "metadata": {},
   "source": [
    "# Dataset(s)"
   ]
  },
  {
   "cell_type": "markdown",
   "metadata": {},
   "source": [
    "Demographics:\n",
    "\n",
    "- Dataset Name: Intercensal Estimates of the Resident Population by Sex, Race, and Hispanic Origin for Counties: April 1, 2000 to July 1, 2010\n",
    "- Link to the dataset: https://www.census.gov/data/datasets/time-series/demo/popest/intercensal-2000-2010-counties.html\n",
    "- Number of observations: 65535\n",
    "- Description: This dataset includes information about the sex, race, and Hispanic origin of people in each country in the United States along with the population estimates from 2000-2010. This is a very large dataset that includes many different counties from the states.  \n",
    "\n",
    "\n",
    "- Dataset Name: Annual County Resident Population Estimates by Age, Sex, Race, and Hispanic Origin: April 1, 2010 to July 1, 2017 (United States)\n",
    "- Link to the dataset: https://www.census.gov/data/datasets/2017/demo/popest/counties-detail.html\n",
    "- Number of observations: (Note: due to the large file size, irrevelant columns have been pre-deleted)\n",
    "- Description: This dataset includes information about the sex, race, and Hispanic origin of people in each country in the United States along with the population estimates from 2010-2017. This is a similar datset to the previous one, except with more recent data.\n",
    "\n",
    "Election Results:\n",
    "\n",
    "- Dataset Name: 2000 Election Data by State (All States by County)\n",
    "- Link to the dataset: https://www.american.edu/spa/ccps/Data-Sets.cfm\n",
    "- Number of observations: 3155\n",
    "- Description: This dataset looks at the election data by county, including the raw numbers and percentages of citizens who voted for Gore, Bush, and other candidates in 2000. \n",
    "\n",
    "\n",
    "- Dataset Name: US presidential election county results 2004 through 2012\n",
    "- Link to the dataset: https://github.com/helloworlddata/us-presidential-election-county-results/tree/master/data\n",
    "- Number of observations: 9462\n",
    "- Description: This dataset is similar to the one above in that it looks at the percentages of votes by county. This also includes data about the margin of victory, which was useful in assessing the correlation between county demographics and voting preferences. \n",
    "\n",
    "\n",
    "- Dataset Name: 2016 US County Level Presidential Results\n",
    "- Link to the dataset: https://github.com/tonmcg/US_County_Level_Election_Results_08-16/blob/master/2016_US_County_Level_Presidential_Results.csv\n",
    "- Number of observations: 3141\n",
    "- Description: This dataset has voting information per county in terms of raw numbers. It has information on percentage point differences between Democrat and Republican votes.\n",
    "\n",
    "    We combined the two datasets in the demographics section to obtain a dataset with the entire yearly information needed from 2000-2017. We combined the election results datasets to get samples of information from each election year from 2000-2016. With our two new datasets, we are now able to accurately assess a large enough sample of years and counties, in order to correctly do the regression."
   ]
  },
  {
   "cell_type": "markdown",
   "metadata": {},
   "source": [
    "# Setup"
   ]
  },
  {
   "cell_type": "code",
   "execution_count": 116,
   "metadata": {},
   "outputs": [],
   "source": [
    "# importing necessary packages\n",
    "import numpy as np\n",
    "import pandas as pd\n",
    "import matplotlib.pyplot as plt"
   ]
  },
  {
   "cell_type": "markdown",
   "metadata": {},
   "source": [
    "# Data Cleaning"
   ]
  },
  {
   "cell_type": "markdown",
   "metadata": {},
   "source": [
    "First, we loaded all of our data into six dataframes: demog2000, demog 2010, countyDensities, results2000, results04_12, and results2016."
   ]
  },
  {
   "cell_type": "code",
   "execution_count": 117,
   "metadata": {},
   "outputs": [],
   "source": [
    "#Load all the data\n",
    "demog2000 = pd.read_csv('co-est00int-sexracehisp.csv') #demographics 2000-2010\n",
    "demog2010 = pd.read_csv('cc-est2017-alldata.csv') #demographics 2010-2017\n",
    "countyDensities = pd.read_csv('ozone-county-population.csv') #population density by county\n",
    "results2000 = pd.read_csv('COUNTY.csv') #election results 2000\n",
    "results04_12 = pd.read_csv('us-presidential-election-county-results-2004-through-2012.csv') #election results 2004-2012\n",
    "results2016 = pd.read_csv('2016_US_County_Level_Presidential_Results.csv') #election results 2016"
   ]
  },
  {
   "cell_type": "markdown",
   "metadata": {},
   "source": [
    "Then, in the cell below, we dropped all the unnecessary rows from each new dataframe."
   ]
  },
  {
   "cell_type": "code",
   "execution_count": 118,
   "metadata": {},
   "outputs": [],
   "source": [
    "#Drop all unnecesary rows from each new dataframe\n",
    "demog2000.drop(demog2000.columns[[0, 3, 4, 8, 10, 11, 12, 14, 15, 16, 18, 19, 20]], axis=1, inplace=True)\n",
    "demog2010.drop(demog2010.columns[[0, 3, 4]], axis=1, inplace=True)\n",
    "countyDensities.drop(countyDensities.columns[[2, 3, 4, 5]], axis=1, inplace=True)\n",
    "results2000 = results2000[['STATE', 'COUNTY', 'PBUSH', 'PGORE']]\n",
    "results04_12 = results04_12[['year', 'fips', 'pct_rep', 'pct_dem']]\n",
    "results2016 = results2016[['per_dem', 'per_gop', 'combined_fips']]"
   ]
  },
  {
   "cell_type": "markdown",
   "metadata": {},
   "source": [
    "From the first dataframe, we extracted all the rows in which sex is coded as 0, Hispanic origin is coded 0, and race is either 0 or 1."
   ]
  },
  {
   "cell_type": "code",
   "execution_count": 119,
   "metadata": {
    "scrolled": true
   },
   "outputs": [],
   "source": [
    "#From demog2000, extract all rows with SEX=0, ORIGIN=0, & (RACE=0 or RACE=1)\n",
    "demog2000['fips'] = demog2000['STATE']*1000 + demog2000['COUNTY']\n",
    "demog2000tot = demog2000.loc[(demog2000['SEX'] == 0) & (demog2000['ORIGIN'] == 0) & (demog2000['RACE'] == 0)]\n",
    "demog2000white = demog2000.loc[(demog2000['SEX'] == 0) & (demog2000['ORIGIN'] == 0) & (demog2000['RACE'] == 1)]\n",
    "demog2000tot = demog2000tot.rename(columns={\"POPESTIMATE2000\": \"2000TotalPop\",\n",
    "                                            \"POPESTIMATE2004\": \"2004TotalPop\",\n",
    "                                            \"POPESTIMATE2008\": \"2008TotalPop\"})\n",
    "demog2000white = demog2000white.rename(columns={\"POPESTIMATE2000\": \"2000TotalWhite\", \n",
    "                                                \"POPESTIMATE2004\": \"2004TotalWhite\",\n",
    "                                                \"POPESTIMATE2008\": \"2008TotalWhite\"})\n",
    "demog2000tot.drop(demog2000tot.columns[[0, 1, 2, 3, 4]], axis=1, inplace=True)\n",
    "demog2000white.drop(demog2000white.columns[[0, 1, 2, 3, 4]], axis=1, inplace=True)\n",
    "demog2000 = demog2000tot.merge(demog2000white, on=\"fips\")"
   ]
  },
  {
   "cell_type": "markdown",
   "metadata": {},
   "source": [
    "In the second dataframe, the demographic info from 2010 and on, we extracted all the rows with year coded as 5 or 9 and make another fips column."
   ]
  },
  {
   "cell_type": "code",
   "execution_count": 120,
   "metadata": {},
   "outputs": [],
   "source": [
    "#From demog2010, extract all rows with YEAR=5 or YEAR=9 & make another \"fips\" column the same as before\n",
    "demog2010['totalWhite'] = demog2010['WA_MALE'] + demog2010['WA_FEMALE']\n",
    "demog2010.drop(demog2010.columns[[5, 6]], axis=1, inplace=True)\n",
    "demog2010['fips'] = demog2010['STATE']*1000 + demog2010['COUNTY']\n",
    "\n",
    "demog2012 = demog2010.loc[(demog2010['YEAR'] == 5) & (demog2010['AGEGRP'] == 0)]\n",
    "demog2016 = demog2010.loc[(demog2010['YEAR'] == 9) & (demog2010['AGEGRP'] == 0)]\n",
    "demog2012 = demog2012.rename(columns={\"TOT_POP\": \"2012TotalPop\", \"totalWhite\": \"2012TotalWhite\"})\n",
    "demog2016 = demog2016.rename(columns={\"TOT_POP\": \"2016TotalPop\", \"totalWhite\": \"2016TotalWhite\"})\n",
    "demog2012.drop(demog2012.columns[[0, 1, 2, 3]], axis=1, inplace=True)\n",
    "demog2016.drop(demog2016.columns[[0, 1, 2, 3]], axis=1, inplace=True)\n",
    "demog2010 = demog2012.merge(demog2016, on='fips')"
   ]
  },
  {
   "cell_type": "markdown",
   "metadata": {},
   "source": [
    "Here, we defined a couple of functions to convert from floats to ints, and to remove commas from the data."
   ]
  },
  {
   "cell_type": "code",
   "execution_count": 121,
   "metadata": {},
   "outputs": [],
   "source": [
    "def toInt(float_in):\n",
    "    return int(float_in)\n",
    "\n",
    "def remComma(string):\n",
    "    return string.replace(',', '')"
   ]
  },
  {
   "cell_type": "markdown",
   "metadata": {},
   "source": [
    "For the dataframe holding the election results from 2004 to 2012, we kept the \"fips\" column, but we cast all the elements in that column to ints using the toInt function we defined above. In the results2016 dataframe, we simply renamed the combined_fips column to \"fips\" so it would be consistent with the 2004-2012 dataframe."
   ]
  },
  {
   "cell_type": "code",
   "execution_count": 122,
   "metadata": {},
   "outputs": [],
   "source": [
    "countyDensities.columns.values[2] = \"LandArea\"\n",
    "countyDensities[\"LandArea\"] = countyDensities[\"LandArea\"].apply(remComma)\n",
    "countyDensities[\"LandArea\"] = pd.to_numeric(countyDensities[\"LandArea\"])\n",
    "countyDensities['fips'] = countyDensities['STATE FIPS']*1000 + countyDensities['COUNTY FIPS']\n",
    "countyDensities.drop(countyDensities.columns[[0, 1]], axis=1, inplace=True)\n",
    "\n",
    "demog2000 = demog2000.merge(countyDensities, on='fips')\n",
    "demog2010 = demog2010.merge(countyDensities, on='fips')\n",
    "\n",
    "#From results04_12, keep the \"fips\" column, but cast all elements in the entire column to ints\n",
    "#results04_12['fips'] = pd.to_numeric(results04_12['fips'], errors='coerce', downcast='integer')\n",
    "#From results2016, rename the combined_fips col to just \"fips\""
   ]
  },
  {
   "cell_type": "markdown",
   "metadata": {},
   "source": [
    "Below, we calculated the population density and percentage of the population that was white for the presidential election years 2000, 2004, and 2008. We then renamed the columns of the demog2000 dataframe appropriately."
   ]
  },
  {
   "cell_type": "code",
   "execution_count": 123,
   "metadata": {},
   "outputs": [],
   "source": [
    "#calculate population density & white percent of population for 2000-2008\n",
    "demog2000[\"2000TotalWhite\"] /= demog2000[\"2000TotalPop\"]\n",
    "demog2000[\"2004TotalWhite\"] /= demog2000[\"2004TotalPop\"]\n",
    "demog2000[\"2008TotalWhite\"] /= demog2000[\"2008TotalPop\"]\n",
    "demog2000[\"2000TotalPop\"] /= demog2000[\"LandArea\"]\n",
    "demog2000[\"2004TotalPop\"] /= demog2000[\"LandArea\"]\n",
    "demog2000[\"2008TotalPop\"] /= demog2000[\"LandArea\"]\n",
    "demog2000 = demog2000.rename(columns={\"2000TotalWhite\": \"whitePct2000\",\n",
    "                                      \"2004TotalWhite\": \"whitePct2004\",\n",
    "                                      \"2008TotalWhite\": \"whitePct2008\",\n",
    "                                      \"2000TotalPop\": \"density2000\",\n",
    "                                      \"2004TotalPop\": \"density2004\",\n",
    "                                      \"2008TotalPop\": \"density2008\"})"
   ]
  },
  {
   "cell_type": "markdown",
   "metadata": {},
   "source": [
    "The same thing that we did in the cell above for 2000, 2004, and 2008, we did below for 2012 and 2016. in the demog2010 dataframe."
   ]
  },
  {
   "cell_type": "code",
   "execution_count": 124,
   "metadata": {},
   "outputs": [],
   "source": [
    "#calculate population density & white percent of population for 2012 & 2016\n",
    "demog2010[\"2012TotalWhite\"] /= demog2010[\"2012TotalPop\"]\n",
    "demog2010[\"2016TotalWhite\"] /= demog2010[\"2016TotalPop\"]\n",
    "demog2010[\"2012TotalPop\"] /= demog2010[\"LandArea\"]\n",
    "demog2010[\"2016TotalPop\"] /= demog2010[\"LandArea\"]\n",
    "demog2010 = demog2010.rename(columns={\"2012TotalWhite\": \"whitePct2012\",\n",
    "                                      \"2016TotalWhite\": \"whitePct2016\",\n",
    "                                      \"2012TotalPop\": \"density2012\",\n",
    "                                      \"2016TotalPop\": \"density2016\"})"
   ]
  },
  {
   "cell_type": "markdown",
   "metadata": {},
   "source": [
    "In the cell below, we standardized th fips codes for the dataframes holding presidential election results. This included casting them all as integers and getting rid of data that did not have a fips code."
   ]
  },
  {
   "cell_type": "code",
   "execution_count": 125,
   "metadata": {},
   "outputs": [],
   "source": [
    "#Standardize fips codes for presidential results files\n",
    "results04_12['fips'] = pd.to_numeric(results04_12['fips'], errors='coerce')\n",
    "results04_12 = results04_12.dropna()\n",
    "results04_12['fips'] = results04_12['fips'].apply(toInt)\n",
    "\n",
    "results2016 = results2016.rename(columns={\"combined_fips\": \"fips\"})"
   ]
  },
  {
   "cell_type": "markdown",
   "metadata": {},
   "source": [
    "In this cell, we created a new column in the results2000 dataframe to hold the fips codes, and we standardized the data that we had for all the other columns in that dataframe. We used this data to create an entirely new dataframe called data2000 with only the elements that we needed from the results2000 dataframe."
   ]
  },
  {
   "cell_type": "code",
   "execution_count": 126,
   "metadata": {
    "scrolled": true
   },
   "outputs": [],
   "source": [
    "#create dataframe for 2000 results\n",
    "results2000['fips'] = 0\n",
    "fips = demog2000['fips']\n",
    "for i in range(67):\n",
    "    results2000.loc[i, 'fips'] = fips[i]\n",
    "for i in range(107, 262):\n",
    "    results2000.loc[i, 'fips'] = fips[i - 11]\n",
    "for i in range(262, 342):\n",
    "    results2000.loc[i, 'fips'] = fips[i - 10]\n",
    "    \n",
    "results2000.loc[342, 'fips'] = 12086 #Miami Dade County, FL\n",
    "for i in range(343, 373):\n",
    "    results2000.loc[i, 'fips'] = fips[i - 11]\n",
    "for i in range(373, 558):\n",
    "    results2000.loc[i, 'fips'] = fips[i - 10]    \n",
    "for i in range(558, 560):\n",
    "    results2000.loc[i, 'fips'] = fips[i - 9]\n",
    "for i in range(562, 1206):\n",
    "    results2000.loc[i, 'fips'] = fips[i - 11]\n",
    "\n",
    "results2000.loc[1206, 'fips'] = 24510 #Baltimore City, MD\n",
    "for i in range(1207, 1228):\n",
    "    results2000.loc[i, 'fips'] = fips[i - 12]\n",
    "for i in range(1228, 1758):\n",
    "    results2000.loc[i, 'fips'] = fips[i - 11]\n",
    "    \n",
    "results2000.loc[1758, 'fips'] = 32510 #Carson City, MD\n",
    "for i in range(1759, 1775):\n",
    "    results2000.loc[i, 'fips'] = fips[i - 12]\n",
    "for i in range(1775, 1841):\n",
    "    results2000.loc[i, 'fips'] = fips[i - 11]\n",
    "    \n",
    "for i in range(1841, 1861):\n",
    "    results2000.loc[i, 'fips'] = fips[i - 10]\n",
    "for i in range(1861, 1867):\n",
    "    results2000.loc[i, 'fips'] = fips[i - 9] \n",
    "for i in range(1867, 1876):\n",
    "    results2000.loc[i, 'fips'] = fips[i - 8]\n",
    "results2000.loc[1876, 'fips'] = 36083 #Rensselaer county NY\n",
    "for i in range(1877, 1896):\n",
    "    results2000.loc[i, 'fips'] = fips[i - 6]\n",
    "results2000.loc[1896, 'fips'] = 36005\n",
    "results2000.loc[1897, 'fips'] = 36047\n",
    "results2000.loc[1898, 'fips'] = 36061\n",
    "results2000.loc[1899, 'fips'] = 36081\n",
    "results2000.loc[1900, 'fips'] = 36085\n",
    "\n",
    "for i in range(1901, 2932):\n",
    "    results2000.loc[i, 'fips'] = fips[i - 11]\n",
    "for i in range(2933, 3155):\n",
    "    results2000.loc[i, 'fips'] = fips[i - 12]\n",
    "    \n",
    "results2000['PBUSH'] = pd.to_numeric(results2000['PBUSH'], errors='coerce')\n",
    "results2000['PGORE'] = pd.to_numeric(results2000['PGORE'], errors='coerce')\n",
    "results2000 = results2000.dropna()\n",
    "results2000['margin_R'] = 100*(results2000['PBUSH'] - results2000['PGORE'])\n",
    "\n",
    "data2000 = results2000[['fips', 'margin_R']].merge(demog2000[['density2000','whitePct2000','fips']], on='fips')"
   ]
  },
  {
   "cell_type": "markdown",
   "metadata": {},
   "source": [
    "In the next few cells, we did the same thing as above for the 2004, 2008, 2012, and 2016 results, calling the new dataframes data2004, data2008, data2012, and data2016."
   ]
  },
  {
   "cell_type": "code",
   "execution_count": 127,
   "metadata": {},
   "outputs": [],
   "source": [
    "#create dataframe for 2004 results\n",
    "results04_12['margin_R'] = results04_12['pct_rep'] - results04_12['pct_dem']\n",
    "data2004 = results04_12.loc[results04_12['year'] == 2004]\n",
    "data2004 = data2004[['fips', 'margin_R']].merge(demog2000[['density2004','whitePct2004','fips']], on='fips')"
   ]
  },
  {
   "cell_type": "code",
   "execution_count": 128,
   "metadata": {},
   "outputs": [],
   "source": [
    "#Create dataframe for 2008 results\n",
    "data2008 = results04_12.loc[results04_12['year'] == 2008]\n",
    "data2008 = data2008[['fips', 'margin_R']].merge(demog2000[['density2008','whitePct2008','fips']], on='fips')"
   ]
  },
  {
   "cell_type": "code",
   "execution_count": 129,
   "metadata": {},
   "outputs": [],
   "source": [
    "#Create dataframe for 2012 results\n",
    "data2012 = results04_12.loc[results04_12['year'] == 2012]\n",
    "data2012 = data2012[['fips', 'margin_R']].merge(demog2010[['density2012','whitePct2012','fips']], on='fips')"
   ]
  },
  {
   "cell_type": "code",
   "execution_count": 130,
   "metadata": {},
   "outputs": [],
   "source": [
    "#Create dataframe for 2016 results\n",
    "results2016['margin_R'] = (results2016['per_gop'] - results2016['per_dem'])*100\n",
    "results2016.drop(results2016.columns[[0, 1]], axis=1, inplace=True)\n",
    "data2016 = results2016.merge(demog2010[['density2016','whitePct2016','fips']], on='fips')\n",
    "data2016 = data2016.iloc[28:]"
   ]
  },
  {
   "cell_type": "markdown",
   "metadata": {},
   "source": [
    "As you can see in the cells below, we have printed out the first five rows of each of these five dataframes. They are now standardized and hold the same types of data!"
   ]
  },
  {
   "cell_type": "code",
   "execution_count": 131,
   "metadata": {},
   "outputs": [
    {
     "data": {
      "text/html": [
       "<div>\n",
       "<style scoped>\n",
       "    .dataframe tbody tr th:only-of-type {\n",
       "        vertical-align: middle;\n",
       "    }\n",
       "\n",
       "    .dataframe tbody tr th {\n",
       "        vertical-align: top;\n",
       "    }\n",
       "\n",
       "    .dataframe thead th {\n",
       "        text-align: right;\n",
       "    }\n",
       "</style>\n",
       "<table border=\"1\" class=\"dataframe\">\n",
       "  <thead>\n",
       "    <tr style=\"text-align: right;\">\n",
       "      <th></th>\n",
       "      <th>fips</th>\n",
       "      <th>margin_R</th>\n",
       "      <th>density2000</th>\n",
       "      <th>whitePct2000</th>\n",
       "    </tr>\n",
       "  </thead>\n",
       "  <tbody>\n",
       "    <tr>\n",
       "      <th>0</th>\n",
       "      <td>1001</td>\n",
       "      <td>40.97</td>\n",
       "      <td>74.055071</td>\n",
       "      <td>0.810840</td>\n",
       "    </tr>\n",
       "    <tr>\n",
       "      <th>1</th>\n",
       "      <td>1003</td>\n",
       "      <td>47.59</td>\n",
       "      <td>88.906417</td>\n",
       "      <td>0.878217</td>\n",
       "    </tr>\n",
       "    <tr>\n",
       "      <th>2</th>\n",
       "      <td>1005</td>\n",
       "      <td>0.89</td>\n",
       "      <td>32.789905</td>\n",
       "      <td>0.521523</td>\n",
       "    </tr>\n",
       "    <tr>\n",
       "      <th>3</th>\n",
       "      <td>1007</td>\n",
       "      <td>22.01</td>\n",
       "      <td>31.984542</td>\n",
       "      <td>0.790187</td>\n",
       "    </tr>\n",
       "    <tr>\n",
       "      <th>4</th>\n",
       "      <td>1009</td>\n",
       "      <td>42.79</td>\n",
       "      <td>79.263186</td>\n",
       "      <td>0.973409</td>\n",
       "    </tr>\n",
       "  </tbody>\n",
       "</table>\n",
       "</div>"
      ],
      "text/plain": [
       "   fips  margin_R  density2000  whitePct2000\n",
       "0  1001     40.97    74.055071      0.810840\n",
       "1  1003     47.59    88.906417      0.878217\n",
       "2  1005      0.89    32.789905      0.521523\n",
       "3  1007     22.01    31.984542      0.790187\n",
       "4  1009     42.79    79.263186      0.973409"
      ]
     },
     "execution_count": 131,
     "metadata": {},
     "output_type": "execute_result"
    }
   ],
   "source": [
    "data2000.head()"
   ]
  },
  {
   "cell_type": "code",
   "execution_count": 132,
   "metadata": {},
   "outputs": [
    {
     "data": {
      "text/html": [
       "<div>\n",
       "<style scoped>\n",
       "    .dataframe tbody tr th:only-of-type {\n",
       "        vertical-align: middle;\n",
       "    }\n",
       "\n",
       "    .dataframe tbody tr th {\n",
       "        vertical-align: top;\n",
       "    }\n",
       "\n",
       "    .dataframe thead th {\n",
       "        text-align: right;\n",
       "    }\n",
       "</style>\n",
       "<table border=\"1\" class=\"dataframe\">\n",
       "  <thead>\n",
       "    <tr style=\"text-align: right;\">\n",
       "      <th></th>\n",
       "      <th>fips</th>\n",
       "      <th>margin_R</th>\n",
       "      <th>density2004</th>\n",
       "      <th>whitePct2004</th>\n",
       "    </tr>\n",
       "  </thead>\n",
       "  <tbody>\n",
       "    <tr>\n",
       "      <th>0</th>\n",
       "      <td>1001</td>\n",
       "      <td>52.0</td>\n",
       "      <td>81.364520</td>\n",
       "      <td>0.804139</td>\n",
       "    </tr>\n",
       "    <tr>\n",
       "      <th>1</th>\n",
       "      <td>1003</td>\n",
       "      <td>53.9</td>\n",
       "      <td>98.293856</td>\n",
       "      <td>0.877581</td>\n",
       "    </tr>\n",
       "    <tr>\n",
       "      <th>2</th>\n",
       "      <td>1005</td>\n",
       "      <td>9.9</td>\n",
       "      <td>31.967191</td>\n",
       "      <td>0.512780</td>\n",
       "    </tr>\n",
       "    <tr>\n",
       "      <th>3</th>\n",
       "      <td>1007</td>\n",
       "      <td>44.5</td>\n",
       "      <td>34.888577</td>\n",
       "      <td>0.770176</td>\n",
       "    </tr>\n",
       "    <tr>\n",
       "      <th>4</th>\n",
       "      <td>1009</td>\n",
       "      <td>62.6</td>\n",
       "      <td>83.942330</td>\n",
       "      <td>0.967353</td>\n",
       "    </tr>\n",
       "  </tbody>\n",
       "</table>\n",
       "</div>"
      ],
      "text/plain": [
       "   fips  margin_R  density2004  whitePct2004\n",
       "0  1001      52.0    81.364520      0.804139\n",
       "1  1003      53.9    98.293856      0.877581\n",
       "2  1005       9.9    31.967191      0.512780\n",
       "3  1007      44.5    34.888577      0.770176\n",
       "4  1009      62.6    83.942330      0.967353"
      ]
     },
     "execution_count": 132,
     "metadata": {},
     "output_type": "execute_result"
    }
   ],
   "source": [
    "data2004.head()"
   ]
  },
  {
   "cell_type": "code",
   "execution_count": 133,
   "metadata": {},
   "outputs": [
    {
     "data": {
      "text/html": [
       "<div>\n",
       "<style scoped>\n",
       "    .dataframe tbody tr th:only-of-type {\n",
       "        vertical-align: middle;\n",
       "    }\n",
       "\n",
       "    .dataframe tbody tr th {\n",
       "        vertical-align: top;\n",
       "    }\n",
       "\n",
       "    .dataframe thead th {\n",
       "        text-align: right;\n",
       "    }\n",
       "</style>\n",
       "<table border=\"1\" class=\"dataframe\">\n",
       "  <thead>\n",
       "    <tr style=\"text-align: right;\">\n",
       "      <th></th>\n",
       "      <th>fips</th>\n",
       "      <th>margin_R</th>\n",
       "      <th>density2008</th>\n",
       "      <th>whitePct2008</th>\n",
       "    </tr>\n",
       "  </thead>\n",
       "  <tbody>\n",
       "    <tr>\n",
       "      <th>0</th>\n",
       "      <td>1001</td>\n",
       "      <td>47.8</td>\n",
       "      <td>89.626133</td>\n",
       "      <td>0.795071</td>\n",
       "    </tr>\n",
       "    <tr>\n",
       "      <th>1</th>\n",
       "      <td>1003</td>\n",
       "      <td>51.5</td>\n",
       "      <td>110.598044</td>\n",
       "      <td>0.877749</td>\n",
       "    </tr>\n",
       "    <tr>\n",
       "      <th>2</th>\n",
       "      <td>1005</td>\n",
       "      <td>1.4</td>\n",
       "      <td>31.425872</td>\n",
       "      <td>0.512119</td>\n",
       "    </tr>\n",
       "    <tr>\n",
       "      <th>3</th>\n",
       "      <td>1007</td>\n",
       "      <td>45.8</td>\n",
       "      <td>36.469092</td>\n",
       "      <td>0.766087</td>\n",
       "    </tr>\n",
       "    <tr>\n",
       "      <th>4</th>\n",
       "      <td>1009</td>\n",
       "      <td>69.5</td>\n",
       "      <td>88.488095</td>\n",
       "      <td>0.966366</td>\n",
       "    </tr>\n",
       "  </tbody>\n",
       "</table>\n",
       "</div>"
      ],
      "text/plain": [
       "   fips  margin_R  density2008  whitePct2008\n",
       "0  1001      47.8    89.626133      0.795071\n",
       "1  1003      51.5   110.598044      0.877749\n",
       "2  1005       1.4    31.425872      0.512119\n",
       "3  1007      45.8    36.469092      0.766087\n",
       "4  1009      69.5    88.488095      0.966366"
      ]
     },
     "execution_count": 133,
     "metadata": {},
     "output_type": "execute_result"
    }
   ],
   "source": [
    "data2008.head()"
   ]
  },
  {
   "cell_type": "code",
   "execution_count": 134,
   "metadata": {},
   "outputs": [
    {
     "data": {
      "text/html": [
       "<div>\n",
       "<style scoped>\n",
       "    .dataframe tbody tr th:only-of-type {\n",
       "        vertical-align: middle;\n",
       "    }\n",
       "\n",
       "    .dataframe tbody tr th {\n",
       "        vertical-align: top;\n",
       "    }\n",
       "\n",
       "    .dataframe thead th {\n",
       "        text-align: right;\n",
       "    }\n",
       "</style>\n",
       "<table border=\"1\" class=\"dataframe\">\n",
       "  <thead>\n",
       "    <tr style=\"text-align: right;\">\n",
       "      <th></th>\n",
       "      <th>fips</th>\n",
       "      <th>margin_R</th>\n",
       "      <th>density2012</th>\n",
       "      <th>whitePct2012</th>\n",
       "    </tr>\n",
       "  </thead>\n",
       "  <tbody>\n",
       "    <tr>\n",
       "      <th>0</th>\n",
       "      <td>1001</td>\n",
       "      <td>45.95</td>\n",
       "      <td>92.401873</td>\n",
       "      <td>0.788064</td>\n",
       "    </tr>\n",
       "    <tr>\n",
       "      <th>1</th>\n",
       "      <td>1003</td>\n",
       "      <td>55.82</td>\n",
       "      <td>119.543284</td>\n",
       "      <td>0.874358</td>\n",
       "    </tr>\n",
       "    <tr>\n",
       "      <th>2</th>\n",
       "      <td>1005</td>\n",
       "      <td>-3.14</td>\n",
       "      <td>30.710518</td>\n",
       "      <td>0.504287</td>\n",
       "    </tr>\n",
       "    <tr>\n",
       "      <th>3</th>\n",
       "      <td>1007</td>\n",
       "      <td>46.68</td>\n",
       "      <td>36.393600</td>\n",
       "      <td>0.768294</td>\n",
       "    </tr>\n",
       "    <tr>\n",
       "      <th>4</th>\n",
       "      <td>1009</td>\n",
       "      <td>73.93</td>\n",
       "      <td>89.325595</td>\n",
       "      <td>0.962393</td>\n",
       "    </tr>\n",
       "  </tbody>\n",
       "</table>\n",
       "</div>"
      ],
      "text/plain": [
       "   fips  margin_R  density2012  whitePct2012\n",
       "0  1001     45.95    92.401873      0.788064\n",
       "1  1003     55.82   119.543284      0.874358\n",
       "2  1005     -3.14    30.710518      0.504287\n",
       "3  1007     46.68    36.393600      0.768294\n",
       "4  1009     73.93    89.325595      0.962393"
      ]
     },
     "execution_count": 134,
     "metadata": {},
     "output_type": "execute_result"
    }
   ],
   "source": [
    "data2012.head()"
   ]
  },
  {
   "cell_type": "code",
   "execution_count": 135,
   "metadata": {},
   "outputs": [
    {
     "data": {
      "text/html": [
       "<div>\n",
       "<style scoped>\n",
       "    .dataframe tbody tr th:only-of-type {\n",
       "        vertical-align: middle;\n",
       "    }\n",
       "\n",
       "    .dataframe tbody tr th {\n",
       "        vertical-align: top;\n",
       "    }\n",
       "\n",
       "    .dataframe thead th {\n",
       "        text-align: right;\n",
       "    }\n",
       "</style>\n",
       "<table border=\"1\" class=\"dataframe\">\n",
       "  <thead>\n",
       "    <tr style=\"text-align: right;\">\n",
       "      <th></th>\n",
       "      <th>fips</th>\n",
       "      <th>margin_R</th>\n",
       "      <th>density2016</th>\n",
       "      <th>whitePct2016</th>\n",
       "    </tr>\n",
       "  </thead>\n",
       "  <tbody>\n",
       "    <tr>\n",
       "      <th>28</th>\n",
       "      <td>1001</td>\n",
       "      <td>49.478934</td>\n",
       "      <td>92.992349</td>\n",
       "      <td>0.771953</td>\n",
       "    </tr>\n",
       "    <tr>\n",
       "      <th>29</th>\n",
       "      <td>1003</td>\n",
       "      <td>57.786162</td>\n",
       "      <td>130.526537</td>\n",
       "      <td>0.871702</td>\n",
       "    </tr>\n",
       "    <tr>\n",
       "      <th>30</th>\n",
       "      <td>1005</td>\n",
       "      <td>5.611165</td>\n",
       "      <td>29.127245</td>\n",
       "      <td>0.496857</td>\n",
       "    </tr>\n",
       "    <tr>\n",
       "      <th>31</th>\n",
       "      <td>1007</td>\n",
       "      <td>55.544124</td>\n",
       "      <td>36.353444</td>\n",
       "      <td>0.766624</td>\n",
       "    </tr>\n",
       "    <tr>\n",
       "      <th>32</th>\n",
       "      <td>1009</td>\n",
       "      <td>81.381973</td>\n",
       "      <td>89.274415</td>\n",
       "      <td>0.960217</td>\n",
       "    </tr>\n",
       "  </tbody>\n",
       "</table>\n",
       "</div>"
      ],
      "text/plain": [
       "    fips   margin_R  density2016  whitePct2016\n",
       "28  1001  49.478934    92.992349      0.771953\n",
       "29  1003  57.786162   130.526537      0.871702\n",
       "30  1005   5.611165    29.127245      0.496857\n",
       "31  1007  55.544124    36.353444      0.766624\n",
       "32  1009  81.381973    89.274415      0.960217"
      ]
     },
     "execution_count": 135,
     "metadata": {},
     "output_type": "execute_result"
    }
   ],
   "source": [
    "data2016.head()"
   ]
  },
  {
   "cell_type": "markdown",
   "metadata": {},
   "source": [
    "# Data Analysis & Results"
   ]
  },
  {
   "cell_type": "markdown",
   "metadata": {},
   "source": [
    "## Population Density vs. Margin of Republican Victory"
   ]
  },
  {
   "cell_type": "markdown",
   "metadata": {},
   "source": [
    "First, we decided to analyze the correlation between population density and the margin by which Republican candidates won the county. If the Margin R is positive, it means that the Republican candidate won, and if it is negative, it means the Democratic candidate won."
   ]
  },
  {
   "cell_type": "markdown",
   "metadata": {},
   "source": [
    "### 2000"
   ]
  },
  {
   "cell_type": "markdown",
   "metadata": {},
   "source": [
    "The two cells below create a scatterplot with a linear regression line of the population density and Republican margin of victory from the 2000 election and calculate the correlation coefficient R between those two variables."
   ]
  },
  {
   "cell_type": "code",
   "execution_count": 136,
   "metadata": {},
   "outputs": [
    {
     "data": {
      "text/plain": [
       "[<matplotlib.lines.Line2D at 0x7fa264688358>]"
      ]
     },
     "execution_count": 136,
     "metadata": {},
     "output_type": "execute_result"
    },
    {
     "data": {
      "image/png": "[encoded data removed]",
      "text/plain": [
       "<Figure size 432x288 with 1 Axes>"
      ]
     },
     "metadata": {
      "needs_background": "light"
     },
     "output_type": "display_data"
    }
   ],
   "source": [
    "# Make two new lists to plot over x and y axes\n",
    "data2000margin = data2000['margin_R']\n",
    "data2000density = data2000['density2000']\n",
    "\n",
    "# Make the scatterplot, label it, and include a linear regression line\n",
    "corrplot2 = plt.scatter(data2000density, data2000margin)\n",
    "plt.xlabel('Density')\n",
    "plt.ylabel('Margin R')\n",
    "plt.title('2000: Density vs. Margin R')\n",
    "z2 = np.polyfit(data2000density, data2000margin, 1)\n",
    "p2 = np.poly1d(z2)\n",
    "plt.plot(data2000density, p2(data2000density), \"r--\")"
   ]
  },
  {
   "cell_type": "code",
   "execution_count": 137,
   "metadata": {},
   "outputs": [
    {
     "name": "stdout",
     "output_type": "stream",
     "text": [
      "-0.225910372083\n"
     ]
    }
   ],
   "source": [
    "R2000_Density = np.corrcoef(x = data2000density, y = data2000margin)\n",
    "print(R2000_Density[0][1])"
   ]
  },
  {
   "cell_type": "markdown",
   "metadata": {},
   "source": [
    "The R-value has a relatively small negative absolute value, suggesting that as population density increased, the margin of victory for the Republican candidate decreased slightly significantly."
   ]
  },
  {
   "cell_type": "markdown",
   "metadata": {},
   "source": [
    "In the next 8 code cells, we used the exact same methods as we did for the 2000 density data, and we applied it to each election year since then. We created the scatterplot and linear regression and we calculated the R-value for the data from each year."
   ]
  },
  {
   "cell_type": "markdown",
   "metadata": {},
   "source": [
    "### 2004"
   ]
  },
  {
   "cell_type": "code",
   "execution_count": 138,
   "metadata": {},
   "outputs": [
    {
     "data": {
      "text/plain": [
       "[<matplotlib.lines.Line2D at 0x7fa25c547588>]"
      ]
     },
     "execution_count": 138,
     "metadata": {},
     "output_type": "execute_result"
    },
    {
     "data": {
      "image/png": "[encoded data removed]",
      "text/plain": [
       "<Figure size 432x288 with 1 Axes>"
      ]
     },
     "metadata": {
      "needs_background": "light"
     },
     "output_type": "display_data"
    }
   ],
   "source": [
    "# Make two new lists to plot over x and y axes\n",
    "data2004margin = data2004['margin_R']\n",
    "data2004density = data2004['density2004']\n",
    "\n",
    "# Make the scatterplot, label it, and include a linear regression line\n",
    "corrplot4 = plt.scatter(data2004density, data2004margin)\n",
    "plt.xlabel('Density')\n",
    "plt.ylabel('Margin R')\n",
    "plt.title('2004: Density vs. Margin R')\n",
    "z4 = np.polyfit(data2004density, data2004margin, 1)\n",
    "p4 = np.poly1d(z4)\n",
    "plt.plot(data2004density, p4(data2004density), \"r--\")"
   ]
  },
  {
   "cell_type": "code",
   "execution_count": 139,
   "metadata": {},
   "outputs": [
    {
     "name": "stdout",
     "output_type": "stream",
     "text": [
      "-0.222166675526\n"
     ]
    }
   ],
   "source": [
    "R2004_Density = np.corrcoef(x = data2004density, y = data2004margin)\n",
    "print(R2004_Density[0][1])"
   ]
  },
  {
   "cell_type": "markdown",
   "metadata": {},
   "source": [
    "The R-value above for the correlation between population density and Republican margin of victory is very similar to the 2000 R-value for the same variables, suggesting a similar conclusion that there is a weak negative linear correlation between the variables. Below is the same process for 2008."
   ]
  },
  {
   "cell_type": "markdown",
   "metadata": {},
   "source": [
    "### 2008"
   ]
  },
  {
   "cell_type": "code",
   "execution_count": 140,
   "metadata": {},
   "outputs": [
    {
     "data": {
      "text/plain": [
       "[<matplotlib.lines.Line2D at 0x7fa2643a7160>]"
      ]
     },
     "execution_count": 140,
     "metadata": {},
     "output_type": "execute_result"
    },
    {
     "data": {
      "image/png": "[encoded data removed]",
      "text/plain": [
       "<Figure size 432x288 with 1 Axes>"
      ]
     },
     "metadata": {
      "needs_background": "light"
     },
     "output_type": "display_data"
    }
   ],
   "source": [
    "# Make two new lists to plot over x and y axes\n",
    "data2008margin = data2008['margin_R']\n",
    "data2008density = data2008['density2008']\n",
    "\n",
    "# Make the scatterplot, label it, and include a linear regression line\n",
    "corrplot6 = plt.scatter(data2008density, data2008margin)\n",
    "plt.xlabel('Density')\n",
    "plt.ylabel('Margin R')\n",
    "plt.title('2008: Density vs. Margin R')\n",
    "z6 = np.polyfit(data2008density, data2008margin, 1)\n",
    "p6 = np.poly1d(z6)\n",
    "plt.plot(data2008density, p6(data2008density), \"r--\")"
   ]
  },
  {
   "cell_type": "code",
   "execution_count": 141,
   "metadata": {},
   "outputs": [
    {
     "name": "stdout",
     "output_type": "stream",
     "text": [
      "-0.218930022794\n"
     ]
    }
   ],
   "source": [
    "R2008_Density = np.corrcoef(x = data2008density, y = data2008margin)\n",
    "print(R2008_Density[0][1])"
   ]
  },
  {
   "cell_type": "markdown",
   "metadata": {},
   "source": [
    "The number above is the R-value for the correlation between population density and Republican margin of victory in 2008. It is similar to both 2000 and 2004, suggesting the same conclusion that there is a weak negative linear correlation between population density and margin of victory for Republican candidates. Next, we applied the same process to the data from 2012."
   ]
  },
  {
   "cell_type": "markdown",
   "metadata": {},
   "source": [
    "### 2012"
   ]
  },
  {
   "cell_type": "code",
   "execution_count": 142,
   "metadata": {},
   "outputs": [
    {
     "data": {
      "text/plain": [
       "[<matplotlib.lines.Line2D at 0x7fa2644668d0>]"
      ]
     },
     "execution_count": 142,
     "metadata": {},
     "output_type": "execute_result"
    },
    {
     "data": {
      "image/png": "[encoded data removed]",
      "text/plain": [
       "<Figure size 432x288 with 1 Axes>"
      ]
     },
     "metadata": {
      "needs_background": "light"
     },
     "output_type": "display_data"
    }
   ],
   "source": [
    "# Make two new lists to plot over x and y axes\n",
    "data2012margin = data2012['margin_R']\n",
    "data2012density = data2012['density2012']\n",
    "\n",
    "# Make the scatterplot, label it, and include a linear regression line\n",
    "corrplot8 = plt.scatter(data2012density, data2012margin)\n",
    "plt.xlabel('Density')\n",
    "plt.ylabel('Margin R')\n",
    "plt.title('2012: Density vs. Margin R')\n",
    "z8 = np.polyfit(data2012density, data2012margin, 1)\n",
    "p8 = np.poly1d(z8)\n",
    "plt.plot(data2012density, p8(data2012density), \"r--\")"
   ]
  },
  {
   "cell_type": "code",
   "execution_count": 143,
   "metadata": {},
   "outputs": [
    {
     "name": "stdout",
     "output_type": "stream",
     "text": [
      "-0.226609046593\n"
     ]
    }
   ],
   "source": [
    "R2012_Density = np.corrcoef(x = data2012density, y = data2012margin)\n",
    "print(R2012_Density[0][1])"
   ]
  },
  {
   "cell_type": "markdown",
   "metadata": {},
   "source": [
    "The above number is the R-value for the correlation between population density and Republican margin of victory for 2012, and it suggest the same conclusion as the previous three R-values for these two variables - that is - that there is a weak negative linear correlation between them. Below is the same process for the 2016 election."
   ]
  },
  {
   "cell_type": "markdown",
   "metadata": {},
   "source": [
    "### 2016"
   ]
  },
  {
   "cell_type": "code",
   "execution_count": 144,
   "metadata": {},
   "outputs": [
    {
     "data": {
      "text/plain": [
       "[<matplotlib.lines.Line2D at 0x7fa25c793d30>]"
      ]
     },
     "execution_count": 144,
     "metadata": {},
     "output_type": "execute_result"
    },
    {
     "data": {
      "image/png": "[encoded data removed]",
      "text/plain": [
       "<Figure size 432x288 with 1 Axes>"
      ]
     },
     "metadata": {
      "needs_background": "light"
     },
     "output_type": "display_data"
    }
   ],
   "source": [
    "# Make two new lists to plot over x and y axes\n",
    "data2016margin = data2016['margin_R']\n",
    "data2016density = data2016['density2016']\n",
    "\n",
    "# Make the scatterplot, label it, and include a linear regression line\n",
    "corrplot10 = plt.scatter(data2016density, data2016margin)\n",
    "plt.xlabel('Density')\n",
    "plt.ylabel('Margin R')\n",
    "plt.title('2016: Density vs. Margin R')\n",
    "z10 = np.polyfit(data2016density, data2016margin, 1)\n",
    "p10 = np.poly1d(z10)\n",
    "plt.plot(data2016density, p10(data2016density), \"r--\")"
   ]
  },
  {
   "cell_type": "code",
   "execution_count": 145,
   "metadata": {},
   "outputs": [
    {
     "name": "stdout",
     "output_type": "stream",
     "text": [
      "-0.269967921264\n"
     ]
    }
   ],
   "source": [
    "R2016_Density = np.corrcoef(x = data2016density, y = data2016margin)\n",
    "print(R2016_Density[0][1])"
   ]
  },
  {
   "cell_type": "markdown",
   "metadata": {},
   "source": [
    "While still suggesting a pretty weak negative linear correlation between population density and Republican margin of victory, this R-value is more different from the rest. The other R-values stay between -0.218 and -0.227, but this one jumps to almost -0.267, suggesting it may be a change from the previous patterns. "
   ]
  },
  {
   "cell_type": "markdown",
   "metadata": {},
   "source": [
    "### R-Values Analysis"
   ]
  },
  {
   "cell_type": "markdown",
   "metadata": {},
   "source": [
    "The next cell creates a figure with six subplots. The first 5 are smaller, less detailed versions of the 5 plots above, and the sixth is a representation of all the R-values over time. This makes it easier to see all the data together, and it shows how the final R-value for 2016 drops so much."
   ]
  },
  {
   "cell_type": "code",
   "execution_count": 146,
   "metadata": {},
   "outputs": [
    {
     "data": {
      "image/png": "[encoded data removed]",
      "text/plain": [
       "<Figure size 432x288 with 6 Axes>"
      ]
     },
     "metadata": {
      "needs_background": "light"
     },
     "output_type": "display_data"
    }
   ],
   "source": [
    "# Create figure with six subplots\n",
    "fig, ((ax1, ax2, ax3), (ax4, ax5, ax6)) = plt.subplots(2, 3, sharex=False, sharey=False)\n",
    "\n",
    "# Plot out first subplot with 2000 data\n",
    "ax1.scatter(data2000density, data2000margin)\n",
    "ax1.plot(data2000density, p2(data2000density), \"r--\")\n",
    "ax1.set_xlabel('Density')\n",
    "ax1.set_ylabel('Margin R')\n",
    "ax1.set_title('2000')\n",
    "\n",
    "# Plot out second subplot with 2004 data\n",
    "ax2.scatter(data2004density, data2004margin)\n",
    "ax2.plot(data2004density, p4(data2004density), \"r--\")\n",
    "ax2.set_xlabel('Density')\n",
    "ax2.set_ylabel('Margin R')\n",
    "ax2.set_title('2004')\n",
    "\n",
    "# Plot out third subplot with 2008 data\n",
    "ax3.scatter(data2008density, data2008margin)\n",
    "ax3.plot(data2008density, p6(data2008density), \"r--\")\n",
    "ax3.set_xlabel('Density')\n",
    "ax3.set_ylabel('Margin R')\n",
    "ax3.set_title('2008')\n",
    "\n",
    "# Plot out fourth subplot with 2012 data\n",
    "ax4.scatter(data2012density, data2012margin)\n",
    "ax4.plot(data2012density, p8(data2012density), \"r--\")\n",
    "ax4.set_xlabel('Density')\n",
    "ax4.set_ylabel('Margin R')\n",
    "ax4.set_title('2012')\n",
    "\n",
    "# Plot out fifth subplot with 2016 data\n",
    "ax5.scatter(data2016density, data2016margin)\n",
    "ax5.plot(data2016density, p10(data2016density), \"r--\")\n",
    "ax5.set_xlabel('Density')\n",
    "ax5.set_ylabel('Margin R')\n",
    "ax5.set_title('2016')\n",
    "\n",
    "# Create two new lists to plot R-values over years\n",
    "Years = ['00', '04', '08', '12', '16']\n",
    "R_Density = [R2000_Density[0][1], R2004_Density[0][1], R2008_Density[0][1],\\\n",
    "             R2012_Density[0][1], R2016_Density[0][1]]\n",
    "\n",
    "# Plot out sixth subplot with R-value data\n",
    "ax6.scatter(Years, R_Density)\n",
    "ax6.set_xlabel('Year')\n",
    "ax6.set_ylabel('R Value')\n",
    "ax6.set_title('Density R-Values')\n",
    "\n",
    "# Print out the plots\n",
    "plt.tight_layout()\n",
    "plt.show()"
   ]
  },
  {
   "cell_type": "code",
   "execution_count": 147,
   "metadata": {},
   "outputs": [
    {
     "name": "stdout",
     "output_type": "stream",
     "text": [
      "-0.695182664098\n"
     ]
    }
   ],
   "source": [
    "R_Density_RValues = np.corrcoef(x = [2000,2004,2008,2012,2016], y = R_Density)\n",
    "print(R_Density_RValues[0][1])"
   ]
  },
  {
   "cell_type": "markdown",
   "metadata": {},
   "source": [
    "In the above cell, we calculated the R-value of all of the different R-values for each year measuring the correlation between population density and Republican margin of victory. This R-value measures the strength of the linear correlation between year and the strength of each of those correlations. Although this is a small sample size, there is a strong negative linear relationship, suggesting that the correlation becomes more strongly negative over time."
   ]
  },
  {
   "cell_type": "markdown",
   "metadata": {},
   "source": [
    "## Percent White vs Margin of Republican Victory"
   ]
  },
  {
   "cell_type": "markdown",
   "metadata": {},
   "source": [
    "After doing analysis on population density, we went through the relationship between the percentage of a county that was white and the margin of victory by Republican candidates, applying the same methods as before. The first 10 code cells all handle the relationship between the percentage of the population in each county that is white and the Republican candidate's margin of victory."
   ]
  },
  {
   "cell_type": "markdown",
   "metadata": {},
   "source": [
    "### 2000"
   ]
  },
  {
   "cell_type": "markdown",
   "metadata": {},
   "source": [
    "The next two cells below handle the demographic and margin of victory relationship for 2000."
   ]
  },
  {
   "cell_type": "code",
   "execution_count": 148,
   "metadata": {},
   "outputs": [
    {
     "data": {
      "text/plain": [
       "[<matplotlib.lines.Line2D at 0x7fa2bde8fd30>]"
      ]
     },
     "execution_count": 148,
     "metadata": {},
     "output_type": "execute_result"
    },
    {
     "data": {
      "image/png": "[encoded data removed]",
      "text/plain": [
       "<Figure size 432x288 with 1 Axes>"
      ]
     },
     "metadata": {
      "needs_background": "light"
     },
     "output_type": "display_data"
    }
   ],
   "source": [
    "# Create a new list to plot data with - margin already exists\n",
    "data2000white = data2000['whitePct2000']\n",
    "\n",
    "# Make the scatterplot, label it, and include a linear regression line\n",
    "corrplot = plt.scatter(data2000white, data2000margin)\n",
    "plt.xlabel('Percent White')\n",
    "plt.ylabel('Margin R')\n",
    "plt.title('2000: Percent White vs. Margin R')\n",
    "z = np.polyfit(data2000white, data2000margin, 1)\n",
    "p = np.poly1d(z)\n",
    "plt.plot(data2000white, p(data2000white), \"r--\")"
   ]
  },
  {
   "cell_type": "code",
   "execution_count": 149,
   "metadata": {},
   "outputs": [
    {
     "name": "stdout",
     "output_type": "stream",
     "text": [
      "0.451552432426\n"
     ]
    }
   ],
   "source": [
    "R2000_White = np.corrcoef(x = data2000white, y = data2000margin)\n",
    "print(R2000_White[0][1])"
   ]
  },
  {
   "cell_type": "markdown",
   "metadata": {},
   "source": [
    "The above number is the R-value for the relationship between the white percentage of the population in each county and the Republican margin of victory. This R-value suggests a moderate positive linear correlation between the two values. Below, the same process is applied to data from 2004."
   ]
  },
  {
   "cell_type": "markdown",
   "metadata": {},
   "source": [
    "### 2004"
   ]
  },
  {
   "cell_type": "code",
   "execution_count": 150,
   "metadata": {},
   "outputs": [
    {
     "data": {
      "text/plain": [
       "[<matplotlib.lines.Line2D at 0x7fa2bdea1a20>]"
      ]
     },
     "execution_count": 150,
     "metadata": {},
     "output_type": "execute_result"
    },
    {
     "data": {
      "image/png": "[encoded data removed]",
      "text/plain": [
       "<Figure size 432x288 with 1 Axes>"
      ]
     },
     "metadata": {
      "needs_background": "light"
     },
     "output_type": "display_data"
    }
   ],
   "source": [
    "# Create a new list to plot data with - margin already exists\n",
    "data2004white = data2004['whitePct2004']\n",
    "\n",
    "# Make the scatterplot, label it, and include a linear regression line\n",
    "corrplot3 = plt.scatter(data2004white, data2004margin)\n",
    "plt.ylabel('Margin R')\n",
    "plt.xlabel('Percent White')\n",
    "plt.title('2004: Percent White vs. Margin R')\n",
    "z3 = np.polyfit(data2004white, data2004margin, 1)\n",
    "p3 = np.poly1d(z3)\n",
    "plt.plot(data2004white, p3(data2004white), \"r--\")"
   ]
  },
  {
   "cell_type": "code",
   "execution_count": 151,
   "metadata": {},
   "outputs": [
    {
     "name": "stdout",
     "output_type": "stream",
     "text": [
      "0.438871175527\n"
     ]
    }
   ],
   "source": [
    "R2004_White = np.corrcoef(x = data2004white, y = data2004margin)\n",
    "print(R2004_White[0][1])"
   ]
  },
  {
   "cell_type": "markdown",
   "metadata": {},
   "source": [
    "The R-value above is similar, but slightly lower than the previous one, suggesting a slightly weaker, but still moderate positive linear correlation between the two values. Below, the same process is applied to data from 2008."
   ]
  },
  {
   "cell_type": "markdown",
   "metadata": {},
   "source": [
    "### 2008"
   ]
  },
  {
   "cell_type": "code",
   "execution_count": 152,
   "metadata": {},
   "outputs": [
    {
     "data": {
      "text/plain": [
       "[<matplotlib.lines.Line2D at 0x7fa2bdff6978>]"
      ]
     },
     "execution_count": 152,
     "metadata": {},
     "output_type": "execute_result"
    },
    {
     "data": {
      "image/png": "[encoded data removed]",
      "text/plain": [
       "<Figure size 432x288 with 1 Axes>"
      ]
     },
     "metadata": {
      "needs_background": "light"
     },
     "output_type": "display_data"
    }
   ],
   "source": [
    "# Create a new list to plot data with - margin already exists\n",
    "data2008white = data2008['whitePct2008']\n",
    "\n",
    "# Make the scatterplot, label it, and include a linear regression line\n",
    "corrplot5 = plt.scatter(data2008white, data2008margin)\n",
    "plt.ylabel('Margin R')\n",
    "plt.xlabel('Percent White')\n",
    "plt.title('2008: Percent White vs. Margin R')\n",
    "z5 = np.polyfit(data2008white, data2008margin, 1)\n",
    "p5 = np.poly1d(z5)\n",
    "plt.plot(data2008white, p5(data2008white), \"r--\")"
   ]
  },
  {
   "cell_type": "code",
   "execution_count": 153,
   "metadata": {},
   "outputs": [
    {
     "name": "stdout",
     "output_type": "stream",
     "text": [
      "0.403824907952\n"
     ]
    }
   ],
   "source": [
    "R2008_White = np.corrcoef(x = data2008white, y = data2008margin)\n",
    "print(R2008_White[0][1])"
   ]
  },
  {
   "cell_type": "markdown",
   "metadata": {},
   "source": [
    "This R-value is similar, but slightly lower than the previous one, suggesting a weaker, but still pretty moderate positive linear correlation between the two values. Below, the same process is applied to data from 2012."
   ]
  },
  {
   "cell_type": "markdown",
   "metadata": {},
   "source": [
    "### 2012"
   ]
  },
  {
   "cell_type": "code",
   "execution_count": 154,
   "metadata": {},
   "outputs": [
    {
     "data": {
      "text/plain": [
       "[<matplotlib.lines.Line2D at 0x7fa26462d358>]"
      ]
     },
     "execution_count": 154,
     "metadata": {},
     "output_type": "execute_result"
    },
    {
     "data": {
      "image/png": "[encoded data removed]",
      "text/plain": [
       "<Figure size 432x288 with 1 Axes>"
      ]
     },
     "metadata": {
      "needs_background": "light"
     },
     "output_type": "display_data"
    }
   ],
   "source": [
    "# Create a new list to plot data with - margin already exists\n",
    "data2012white = data2012['whitePct2012']\n",
    "\n",
    "# Make the scatterplot, label it, and include a linear regression line\n",
    "corrplot7 = plt.scatter(data2012white, data2012margin)\n",
    "plt.ylabel('Margin R')\n",
    "plt.xlabel('Percent White')\n",
    "plt.title('2012: Percent White vs. Margin R')\n",
    "z7 = np.polyfit(data2012white, data2012margin, 1)\n",
    "p7 = np.poly1d(z7)\n",
    "plt.plot(data2012white, p7(data2012white), \"r--\")"
   ]
  },
  {
   "cell_type": "code",
   "execution_count": 155,
   "metadata": {},
   "outputs": [
    {
     "name": "stdout",
     "output_type": "stream",
     "text": [
      "0.481562434338\n"
     ]
    }
   ],
   "source": [
    "R2012_White = np.corrcoef(x = data2012white, y = data2012margin)\n",
    "print(R2012_White[0][1])"
   ]
  },
  {
   "cell_type": "markdown",
   "metadata": {},
   "source": [
    "This R-value is definitely higher than the previous one, suggesting a stronger, but still moderate positive linear correlation between the two values. Below, the same process is applied to data from 2016."
   ]
  },
  {
   "cell_type": "markdown",
   "metadata": {},
   "source": [
    "### 2016"
   ]
  },
  {
   "cell_type": "code",
   "execution_count": 156,
   "metadata": {},
   "outputs": [
    {
     "data": {
      "text/plain": [
       "[<matplotlib.lines.Line2D at 0x7fa2bdc8e5f8>]"
      ]
     },
     "execution_count": 156,
     "metadata": {},
     "output_type": "execute_result"
    },
    {
     "data": {
      "image/png": "[encoded data removed]",
      "text/plain": [
       "<Figure size 432x288 with 1 Axes>"
      ]
     },
     "metadata": {
      "needs_background": "light"
     },
     "output_type": "display_data"
    }
   ],
   "source": [
    "# Create a new list to plot data with - margin already exists\n",
    "data2016white = data2016['whitePct2016']\n",
    "\n",
    "# Make the scatterplot, label it, and include a linear regression line\n",
    "corrplot9 = plt.scatter(data2016white, data2016margin)\n",
    "plt.ylabel('Margin R')\n",
    "plt.xlabel('Percent White')\n",
    "plt.title('2016: Percent White vs. Margin R')\n",
    "z9 = np.polyfit(data2016white, data2016margin, 1)\n",
    "p9 = np.poly1d(z9)\n",
    "plt.plot(data2016white, p9(data2016white), \"r--\")"
   ]
  },
  {
   "cell_type": "code",
   "execution_count": 157,
   "metadata": {},
   "outputs": [
    {
     "name": "stdout",
     "output_type": "stream",
     "text": [
      "0.564087698928\n"
     ]
    }
   ],
   "source": [
    "R2016_White = np.corrcoef(x = data2016white, y = data2016margin)\n",
    "print(R2016_White[0][1])"
   ]
  },
  {
   "cell_type": "markdown",
   "metadata": {},
   "source": [
    "Here, the R-value jumps up again by almost a full 0.1, suggesting a stronger correlation than all the previous years."
   ]
  },
  {
   "cell_type": "markdown",
   "metadata": {},
   "source": [
    "### R-Values Analysis"
   ]
  },
  {
   "cell_type": "markdown",
   "metadata": {},
   "source": [
    "Below, there is a large figure with all of the different datasets plotted together so it is easier to see subtle differences. In addition to this, the sixth subplot is a plot of all the R-values for each year, so it is easier to see how the strength of the positive linear correlation changes over time."
   ]
  },
  {
   "cell_type": "code",
   "execution_count": 158,
   "metadata": {},
   "outputs": [
    {
     "data": {
      "image/png": "[encoded data removed]",
      "text/plain": [
       "<Figure size 432x288 with 6 Axes>"
      ]
     },
     "metadata": {
      "needs_background": "light"
     },
     "output_type": "display_data"
    }
   ],
   "source": [
    "# Create figure with six subplots\n",
    "fig, ((ax1, ax2, ax3), (ax4, ax5, ax6)) = plt.subplots(2, 3, sharex=False, sharey=False)\n",
    "\n",
    "# Plot out first subplot with 2000 data\n",
    "ax1.scatter(data2000white, data2000margin)\n",
    "ax1.plot(data2000white, p(data2000white), \"r--\")\n",
    "ax1.set_xlabel('% White')\n",
    "ax1.set_ylabel('Margin R')\n",
    "ax1.set_title('2000')\n",
    "\n",
    "# Plot out second subplot with 2004 data\n",
    "ax2.scatter(data2004white, data2004margin)\n",
    "ax2.plot(data2004white, p3(data2004white), \"r--\")\n",
    "ax2.set_xlabel('% White')\n",
    "ax2.set_ylabel('Margin R')\n",
    "ax2.set_title('2004')\n",
    "\n",
    "# Plot out third subplot with 2008 data\n",
    "ax3.scatter(data2008white, data2008margin)\n",
    "ax3.plot(data2008white, p5(data2008white), \"r--\")\n",
    "ax3.set_xlabel('% White')\n",
    "ax3.set_ylabel('Margin R')\n",
    "ax3.set_title('2008')\n",
    "\n",
    "# Plot out first subplot with 2012 data\n",
    "ax4.scatter(data2012white, data2012margin)\n",
    "ax4.plot(data2012white, p7(data2012white), \"r--\")\n",
    "ax4.set_xlabel('% White')\n",
    "ax4.set_ylabel('Margin R')\n",
    "ax4.set_title('2012')\n",
    "\n",
    "# Plot out fifth subplot with 2016 data\n",
    "ax5.scatter(data2016white, data2016margin)\n",
    "ax5.plot(data2016white, p9(data2016white), \"r--\")\n",
    "ax5.set_xlabel('% White')\n",
    "ax5.set_ylabel('Margin R')\n",
    "ax5.set_title('2016')\n",
    "\n",
    "# Create two new lists to plot R-values over years\n",
    "Years = ['00', '04', '08', '12', '16']\n",
    "R_White = [R2000_White[0][1], R2004_White[0][1], R2008_White[0][1],\\\n",
    "             R2012_White[0][1], R2016_White[0][1]]\n",
    "\n",
    "# Plot out sixth subplot with R-value data\n",
    "ax6.scatter(Years, R_White)\n",
    "ax6.set_xlabel('Year')\n",
    "ax6.set_ylabel('R Value')\n",
    "ax6.set_title('% White R-Values')\n",
    "\n",
    "# Print out the plots\n",
    "plt.tight_layout()\n",
    "plt.show()"
   ]
  },
  {
   "cell_type": "code",
   "execution_count": 159,
   "metadata": {},
   "outputs": [
    {
     "name": "stdout",
     "output_type": "stream",
     "text": [
      "0.699466634984\n"
     ]
    }
   ],
   "source": [
    "R_White_RValues = np.corrcoef(x = [2000,2004,2008,2012,2016], y = R_White)\n",
    "print(R_White_RValues[0][1])"
   ]
  },
  {
   "cell_type": "markdown",
   "metadata": {},
   "source": [
    "In the above cell, we calculated the R-value of all of the different R-values for each year measuring the correlation between population density and Republican margin of victory. This R-value measures the strength of the linear correlation between year and the strength of each of those correlations. Although this is a small sample size, there is a strong positive linear relationship, suggesting that the correlation becomes more strongly positive over time."
   ]
  },
  {
   "cell_type": "markdown",
   "metadata": {},
   "source": [
    "# Ethics & Privacy"
   ]
  },
  {
   "cell_type": "markdown",
   "metadata": {},
   "source": [
    "In our research question since we are additionally analyzing the correlation of racial diversity and population density in accordance to the margins of victory, the analysis of race may bring into question multiracial advocacy and concerns within the United States. \n",
    "\n",
    "For our data collected, one major ethical consideration is that individual voter data and voter records are private & confidential. However, we are using population metrics, which do not single out specific voters, so the issue of voter privacy is less pressing. Also, we have mitigated collection bias by collecting our data from the government analytics. As such, we have minbimized the possibility of bias in our data from collecting from official sources and using large population metrics and densities. \n",
    "\n",
    "In the usage of our data, an additional concern of security is that there is currently no system to protect and secure our data through third party software and access controls nor is there one to remove the data once the research has been completed. \n",
    "\n",
    "In our analysis, since we have tailored our models to fit our research question, there is a possible concern that we may have missed additional metrics. However, since all the variables in each year are tested in the same way for correlation, we have ommitted any bias in our analysis and have communicated the correlations clearly to further understand our research question. \n",
    "\n",
    "The last major ethical issue to take into account is how these data can be used in the future, considering the prevalence of gerrymandering in this country. The more that lawmakers know about the voting patterns of specific counties, the more they can change county lines to maximize the likelihood of members of their party being elected."
   ]
  },
  {
   "cell_type": "markdown",
   "metadata": {},
   "source": [
    "# Conclusion & Discussion"
   ]
  },
  {
   "cell_type": "markdown",
   "metadata": {},
   "source": [
    "The correlations between population density and Republican margin of victory for each election year from 2000 to 2016 are all pretty weak negative linear correlations, even though they do become stronger over time.\n",
    "\n",
    "The correlations between the percent of the population that is white and Republican margin of victory, however, are all moderately strong and also get stronger over time.\n",
    "\n",
    "Our research question asked which factor is more strongly correlated with Republican margin of victory, and across the board, that is the demographics factor, rather than the population density factor. Those r-values were consistently above 0.4 in magnititude, while the population density r-values were consistently below 0.3 in magnitude. This suggests a stronger linear correlation (regardless of whether it was positive or negative) between racial demographics and margin of victory.\n",
    "\n",
    "The research question also asked if how the correlations for each factor change over time, and for both factors, there is a strong linear correlation (of the correlations themselves) over time, suggesting that they get stronger. For population density, the correlation with margin of victory becomes more strongly negative over time, and for population demographics, the correlation between that and margin of victory becomes more strongly positive.\n",
    "\n",
    "In our hypothesis, we stated that we believed the population demographics would be more strongly correlated with election results than the population density, and we were correct in that statement. We also said that the correlations would get stronger over time. We were correct on this matter as well.\n",
    "\n",
    "The increase in the strength of the correlations over time suggests an overall increase in polarization of and partisanship in the country. This is because it is becoming easier to more accurately predict the way a county vote based on how many people live in its area and what races they are. These correlations show a consolidation of Democratic voting blocks into highly dense, most likely urban areas of the country, and the increased correlation between racial lines and party-voting lines.\n",
    "\n",
    "Because of the small sample size of only five presidential election years, it is difficult to draw a strong conclusion, but everything that we calculated ended up confirming our hypothesis. Plus, the nature of the results of the 2016 election (and how they shocked most data scientists) suggest that there is a fundamental change in the way that people make political voting decisions in the United States, so getting a larger sample size and pulling from further back in history may not be the most useful thing to do in this situation. We will probably have to wait and see how the next few elections go and then reevaluate to get an accurate answer on whether these trends we see are actually real or not."
   ]
  }
 ],
 "metadata": {
  "kernelspec": {
   "display_name": "Python 3",
   "language": "python",
   "name": "python3"
  },
  "language_info": {
   "codemirror_mode": {
    "name": "ipython",
    "version": 3
   },
   "file_extension": ".py",
   "mimetype": "text/x-python",
   "name": "python",
   "nbconvert_exporter": "python",
   "pygments_lexer": "ipython3",
   "version": "3.6.7"
  }
 },
 "nbformat": 4,
 "nbformat_minor": 2
}

{
 "cells": [
  {
   "cell_type": "markdown",
   "metadata": {},
   "source": [
    "# COGS 108 - Final Project "
   ]
  },
  {
   "cell_type": "markdown",
   "metadata": {},
   "source": [
    "# Overview"
   ]
  },
  {
   "cell_type": "markdown",
   "metadata": {},
   "source": [
    "In this project, we analyzed county-level results of US presidential elections from 2000-2016 and the strength of the correlation of partisan vote share with 2 factors over time. Specifically, for each year, we calculated the strength of the correlation between partisan swings with population density as well as racial diversity. This enabled us to see which factors have strongly (or less strongly) correlated over time. This will help tell if a certain variable is a better predictor of a county's vote over time and could even predict patterns in the upcoming 2020 election."
   ]
  },
  {
   "cell_type": "markdown",
   "metadata": {},
   "source": [
    "# Names\n",
    "\n",
    "- Nancy Bui\n",
    "- Jayvee Inthisone\n",
    "- Katarina Stefanovic\n",
    "- Allison Tietz\n",
    "- Frank Zhou"
   ]
  },
  {
   "cell_type": "markdown",
   "metadata": {},
   "source": [
    "# Group Members IDs\n",
    "\n",
    "- A13669676\n",
    "- A13218641\n",
    "- A14084974\n",
    "- A14854110\n",
    "- A14672642"
   ]
  },
  {
   "cell_type": "markdown",
   "metadata": {},
   "source": [
    "# Research Question"
   ]
  },
  {
   "cell_type": "markdown",
   "metadata": {},
   "source": [
    "How are presidential election margins in each county correlated with county population density and racial makeup and which factors have correlated more strongly (or less) over time?"
   ]
  },
  {
   "cell_type": "markdown",
   "metadata": {},
   "source": [
    "## Background and Prior Work"
   ]
  },
  {
   "cell_type": "markdown",
   "metadata": {},
   "source": [
    "Presidential election results from different years show that large portions of the country have drastically changed their party allegiances over time. In swing states, those changes can be fast and volatile. For example, it can be seen that voting patterns in midwestern states has shifted from voting reliably for democratic candidates to suddenly voting for republican ones in this past election. In contrast to those changes, urban areas across the nation like the metropolitan Atlanta area and Orange County, California have traditionally backed Republican candidates, but are now voting more Democratic at the federal level. Analyzing changes in voting patterns of the United States on a county level – particularly in swing states and the so-called “rust belt” region – will provide valuable information in where candidates should focus their campaign efforts during election season. \n",
    "\n",
    "On a state level, some states that have voted reliably Democratic in the past are now firmly Republican, like West Virginia. On the other hand, formerly Republican states and strongholds like Virginia have now become primarily Democratic states. Appalachia and the American south have seen some of the largest swings toward Republican candidates in recent years, while the states on the coasts have seen the largest swings toward Democrats. Since the controversial 2000 presidential election, some states have gone back and forth each election cycle. Many states have “pivot counties,” which may be a deciding factor in how a state votes. The changes of a particular state like Ohio – a perennial swing state that voted extremely Republican in 2016 – should be quantified to answer questions candidates may have such as, “Is it still worth it to campaign in Ohio, or should I start campaigning in a Democratically trending state like Georgia?” Tracks of these patterns over time can provide valuable practical information for future campaigns.\n",
    "\n",
    "References (include links):\n",
    "- 1) https://www.270towin.com/states/West_Virginia\n",
    "- 2) https://www.270towin.com/states/"
   ]
  },
  {
   "cell_type": "markdown",
   "metadata": {},
   "source": [
    "# Hypothesis\n"
   ]
  },
  {
   "cell_type": "markdown",
   "metadata": {},
   "source": [
    "In each presidential year since 2000, the Democratic margin in each county has been increasingly positively in correlated with population density and racial diversity. There seems to be a sharp increase in the strength of these correlations in the 2016 election. We chose this hypothesis because the status of the voting preferences of certain states in 2016 was seen as a given because of previous history, and so there wasn't much of a political effort to sway the voters in those areas. This turned out to be a drastic mistake, and we believe that our predicition models may do a better job of seeing what may happen in the 2020 election. This hypothesis was specifically chosen because of the way we have perceived politics and everything that we know to be true in the political sphere. Our prediction is that partisanship will increase sharply over time, due to these factors."
   ]
  },
  {
   "cell_type": "markdown",
   "metadata": {},
   "source": [
    "# Dataset(s)"
   ]
  },
  {
   "cell_type": "markdown",
   "metadata": {},
   "source": [
    "Demographics:\n",
    "\n",
    "- Dataset Name: Intercensal Estimates of the Resident Population by Sex, Race, and Hispanic Origin for Counties: April 1, 2000 to July 1, 2010\n",
    "- Link to the dataset: https://www.census.gov/data/datasets/time-series/demo/popest/intercensal-2000-2010-counties.html\n",
    "- Number of observations: 65535\n",
    "- Description: This dataset includes information about the sex, race, and Hispanic origin of people in each country in the United States along with the population estimates from 2000-2010. This is a very large dataset that includes many different counties from the states.  \n",
    "\n",
    "\n",
    "- Dataset Name: Annual County Resident Population Estimates by Age, Sex, Race, and Hispanic Origin: April 1, 2010 to July 1, 2017 (United States)\n",
    "- Link to the dataset: https://www.census.gov/data/datasets/2017/demo/popest/counties-detail.html\n",
    "- Number of observations: (Note: due to the large file size, irrevelant columns have been pre-deleted)\n",
    "- Description: This dataset includes information about the sex, race, and Hispanic origin of people in each country in the United States along with the population estimates from 2010-2017. This is a similar datset to the previous one, except with more recent data.\n",
    "\n",
    "Election Results:\n",
    "\n",
    "- Dataset Name: 2000 Election Data by State (All States by County)\n",
    "- Link to the dataset: https://www.american.edu/spa/ccps/Data-Sets.cfm\n",
    "- Number of observations: 3155\n",
    "- Description: This dataset looks at the election data by county, including the raw numbers and percentages of citizens who voted for Gore, Bush, and other candidates in 2000. \n",
    "\n",
    "\n",
    "- Dataset Name: US presidential election county results 2004 through 2012\n",
    "- Link to the dataset: https://github.com/helloworlddata/us-presidential-election-county-results/tree/master/data\n",
    "- Number of observations: 9462\n",
    "- Description: This dataset is similar to the one above in that it looks at the percentages of votes by county. This also includes data about the margin of victory, which was useful in assessing the correlation between county demographics and voting preferences. \n",
    "\n",
    "\n",
    "- Dataset Name: 2016 US County Level Presidential Results\n",
    "- Link to the dataset: https://github.com/tonmcg/US_County_Level_Election_Results_08-16/blob/master/2016_US_County_Level_Presidential_Results.csv\n",
    "- Number of observations: 3141\n",
    "- Description: This dataset has voting information per county in terms of raw numbers. It has information on percentage point differences between Democrat and Republican votes.\n",
    "\n",
    "    We combined the two datasets in the demographics section to obtain a dataset with the entire yearly information needed from 2000-2017. We combined the election results datasets to get samples of information from each election year from 2000-2016. With our two new datasets, we are now able to accurately assess a large enough sample of years and counties, in order to correctly do the regression."
   ]
  },
  {
   "cell_type": "markdown",
   "metadata": {},
   "source": [
    "# Setup"
   ]
  },
  {
   "cell_type": "code",
   "execution_count": 1,
   "metadata": {},
   "outputs": [],
   "source": [
    "## YOUR CODE HERE\n",
    "import numpy as np\n",
    "import pandas as pd"
   ]
  },
  {
   "cell_type": "markdown",
   "metadata": {},
   "source": [
    "# Data Cleaning"
   ]
  },
  {
   "cell_type": "markdown",
   "metadata": {},
   "source": [
    "First, we loaded all of our data into six dataframes: demog2000, demog 2010, countyDensities, results2000, results04_12, and results2016."
   ]
  },
  {
   "cell_type": "code",
   "execution_count": 2,
   "metadata": {},
   "outputs": [],
   "source": [
    "#Load all the data\n",
    "demog2000 = pd.read_csv('co-est00int-sexracehisp.csv') #demographics 2000-2010\n",
    "demog2010 = pd.read_csv('cc-est2017-alldata.csv') #demographics 2010-2017\n",
    "countyDensities = pd.read_csv('ozone-county-population.csv') #population density by county\n",
    "results2000 = pd.read_csv('COUNTY.csv') #election results 2000\n",
    "results04_12 = pd.read_csv('us-presidential-election-county-results-2004-through-2012.csv') #election results 2004-2012\n",
    "results2016 = pd.read_csv('2016_US_County_Level_Presidential_Results.csv') #election results 2016"
   ]
  },
  {
   "cell_type": "markdown",
   "metadata": {},
   "source": [
    "Then, in the cell below, we dropped all the unnecessary rows from each new dataframe."
   ]
  },
  {
   "cell_type": "code",
   "execution_count": 3,
   "metadata": {},
   "outputs": [],
   "source": [
    "#Drop all unnecesary rows from each new dataframe\n",
    "demog2000.drop(demog2000.columns[[0, 3, 4, 8, 10, 11, 12, 14, 15, 16, 18, 19, 20]], axis=1, inplace=True)\n",
    "demog2010.drop(demog2010.columns[[0, 3, 4]], axis=1, inplace=True)\n",
    "countyDensities.drop(countyDensities.columns[[2, 3, 4, 5]], axis=1, inplace=True)\n",
    "results2000 = results2000[['STATE', 'COUNTY', 'PBUSH', 'PGORE']]\n",
    "results04_12 = results04_12[['year', 'fips', 'pct_rep', 'pct_dem']]\n",
    "results2016 = results2016[['per_dem', 'per_gop', 'combined_fips']]"
   ]
  },
  {
   "cell_type": "markdown",
   "metadata": {},
   "source": [
    "From the first dataframe, we extracted all the rows in which sex is coded as 0, Hispanic origin is coded 0, and race is either 0 or 1."
   ]
  },
  {
   "cell_type": "code",
   "execution_count": 4,
   "metadata": {
    "scrolled": true
   },
   "outputs": [],
   "source": [
    "#From demog2000, extract all rows with SEX=0, ORIGIN=0, & (RACE=0 or RACE=1)\n",
    "demog2000['fips'] = demog2000['STATE']*1000 + demog2000['COUNTY']\n",
    "demog2000tot = demog2000.loc[(demog2000['SEX'] == 0) & (demog2000['ORIGIN'] == 0) & (demog2000['RACE'] == 0)]\n",
    "demog2000white = demog2000.loc[(demog2000['SEX'] == 0) & (demog2000['ORIGIN'] == 0) & (demog2000['RACE'] == 1)]\n",
    "demog2000tot = demog2000tot.rename(columns={\"POPESTIMATE2000\": \"2000TotalPop\",\n",
    "                                            \"POPESTIMATE2004\": \"2004TotalPop\",\n",
    "                                            \"POPESTIMATE2008\": \"2008TotalPop\"})\n",
    "demog2000white = demog2000white.rename(columns={\"POPESTIMATE2000\": \"2000TotalWhite\", \n",
    "                                                \"POPESTIMATE2004\": \"2004TotalWhite\",\n",
    "                                                \"POPESTIMATE2008\": \"2008TotalWhite\"})\n",
    "demog2000tot.drop(demog2000tot.columns[[0, 1, 2, 3, 4]], axis=1, inplace=True)\n",
    "demog2000white.drop(demog2000white.columns[[0, 1, 2, 3, 4]], axis=1, inplace=True)\n",
    "demog2000 = demog2000tot.merge(demog2000white, on=\"fips\")"
   ]
  },
  {
   "cell_type": "markdown",
   "metadata": {},
   "source": [
    "In the second dataframe, the demographic info from 2010 and on, we extracted all the rows with year coded as 5 or 9 and make another fips column."
   ]
  },
  {
   "cell_type": "code",
   "execution_count": 5,
   "metadata": {},
   "outputs": [],
   "source": [
    "#From demog2010, extract all rows with YEAR=5 or YEAR=9 & make another \"fips\" column the same as before\n",
    "demog2010['totalWhite'] = demog2010['WA_MALE'] + demog2010['WA_FEMALE']\n",
    "demog2010.drop(demog2010.columns[[5, 6]], axis=1, inplace=True)\n",
    "demog2010['fips'] = demog2010['STATE']*1000 + demog2010['COUNTY']\n",
    "\n",
    "demog2012 = demog2010.loc[(demog2010['YEAR'] == 5) & (demog2010['AGEGRP'] == 0)]\n",
    "demog2016 = demog2010.loc[(demog2010['YEAR'] == 9) & (demog2010['AGEGRP'] == 0)]\n",
    "demog2012 = demog2012.rename(columns={\"TOT_POP\": \"2012TotalPop\", \"totalWhite\": \"2012TotalWhite\"})\n",
    "demog2016 = demog2016.rename(columns={\"TOT_POP\": \"2016TotalPop\", \"totalWhite\": \"2016TotalWhite\"})\n",
    "demog2012.drop(demog2012.columns[[0, 1, 2, 3]], axis=1, inplace=True)\n",
    "demog2016.drop(demog2016.columns[[0, 1, 2, 3]], axis=1, inplace=True)\n",
    "demog2010 = demog2012.merge(demog2016, on='fips')"
   ]
  },
  {
   "cell_type": "markdown",
   "metadata": {},
   "source": [
    "Here, we defined a couple of functions to convert from floats to ints, and to remove commas from the data."
   ]
  },
  {
   "cell_type": "code",
   "execution_count": 6,
   "metadata": {},
   "outputs": [],
   "source": [
    "def toInt(float_in):\n",
    "    return int(float_in)\n",
    "\n",
    "def remComma(string):\n",
    "    return string.replace(',', '')"
   ]
  },
  {
   "cell_type": "markdown",
   "metadata": {},
   "source": [
    "For the dataframe holding the election results from 2004 to 2012, we kept the \"fips\" column, but we cast all the elements in that column to ints using the toInt function we defined above. In the results2016 dataframe, we simply renamed the combined_fips column to \"fips\" so it would be consistent with the 2004-2012 dataframe."
   ]
  },
  {
   "cell_type": "code",
   "execution_count": 7,
   "metadata": {},
   "outputs": [],
   "source": [
    "countyDensities.columns.values[2] = \"LandArea\"\n",
    "countyDensities[\"LandArea\"] = countyDensities[\"LandArea\"].apply(remComma)\n",
    "countyDensities[\"LandArea\"] = pd.to_numeric(countyDensities[\"LandArea\"])\n",
    "countyDensities['fips'] = countyDensities['STATE FIPS']*1000 + countyDensities['COUNTY FIPS']\n",
    "countyDensities.drop(countyDensities.columns[[0, 1]], axis=1, inplace=True)\n",
    "\n",
    "demog2000 = demog2000.merge(countyDensities, on='fips')\n",
    "demog2010 = demog2010.merge(countyDensities, on='fips')\n",
    "\n",
    "#From results04_12, keep the \"fips\" column, but cast all elements in the entire column to ints\n",
    "#results04_12['fips'] = pd.to_numeric(results04_12['fips'], errors='coerce', downcast='integer')\n",
    "#From results2016, rename the combined_fips col to just \"fips\""
   ]
  },
  {
   "cell_type": "markdown",
   "metadata": {},
   "source": [
    "Below, we calculated the population density and percentage of the population that was white for the presidential election years 2000, 2004, and 2008. We then renamed the columns of the demog2000 dataframe appropriately."
   ]
  },
  {
   "cell_type": "code",
   "execution_count": 8,
   "metadata": {},
   "outputs": [],
   "source": [
    "#calculate population density & white percent of population for 2000-2008\n",
    "demog2000[\"2000TotalWhite\"] /= demog2000[\"2000TotalPop\"]\n",
    "demog2000[\"2004TotalWhite\"] /= demog2000[\"2004TotalPop\"]\n",
    "demog2000[\"2008TotalWhite\"] /= demog2000[\"2008TotalPop\"]\n",
    "demog2000[\"2000TotalPop\"] /= demog2000[\"LandArea\"]\n",
    "demog2000[\"2004TotalPop\"] /= demog2000[\"LandArea\"]\n",
    "demog2000[\"2008TotalPop\"] /= demog2000[\"LandArea\"]\n",
    "demog2000 = demog2000.rename(columns={\"2000TotalWhite\": \"whitePct2000\",\n",
    "                                      \"2004TotalWhite\": \"whitePct2004\",\n",
    "                                      \"2008TotalWhite\": \"whitePct2008\",\n",
    "                                      \"2000TotalPop\": \"density2000\",\n",
    "                                      \"2004TotalPop\": \"density2004\",\n",
    "                                      \"2008TotalPop\": \"density2008\"})"
   ]
  },
  {
   "cell_type": "markdown",
   "metadata": {},
   "source": [
    "The same thing that we did in the cell above for 2000, 2004, and 2008, we did below for 2012 and 2016. in the demog2010 dataframe."
   ]
  },
  {
   "cell_type": "code",
   "execution_count": 9,
   "metadata": {},
   "outputs": [],
   "source": [
    "#calculate population density & white percent of population for 2012 & 2016\n",
    "demog2010[\"2012TotalWhite\"] /= demog2010[\"2012TotalPop\"]\n",
    "demog2010[\"2016TotalWhite\"] /= demog2010[\"2016TotalPop\"]\n",
    "demog2010[\"2012TotalPop\"] /= demog2010[\"LandArea\"]\n",
    "demog2010[\"2016TotalPop\"] /= demog2010[\"LandArea\"]\n",
    "demog2010 = demog2010.rename(columns={\"2012TotalWhite\": \"whitePct2012\",\n",
    "                                      \"2016TotalWhite\": \"whitePct2016\",\n",
    "                                      \"2012TotalPop\": \"density2012\",\n",
    "                                      \"2016TotalPop\": \"density2016\"})"
   ]
  },
  {
   "cell_type": "markdown",
   "metadata": {},
   "source": [
    "In the cell below, we standardized th fips codes for the dataframes holding presidential election results. This included casting them all as integers and getting rid of data that did not have a fips code."
   ]
  },
  {
   "cell_type": "code",
   "execution_count": 10,
   "metadata": {},
   "outputs": [],
   "source": [
    "#Standardize fips codes for presidential results files\n",
    "results04_12['fips'] = pd.to_numeric(results04_12['fips'], errors='coerce')\n",
    "results04_12 = results04_12.dropna()\n",
    "results04_12['fips'] = results04_12['fips'].apply(toInt)\n",
    "\n",
    "results2016 = results2016.rename(columns={\"combined_fips\": \"fips\"})"
   ]
  },
  {
   "cell_type": "markdown",
   "metadata": {},
   "source": [
    "In this cell, we created a new column in the results2000 dataframe to hold the fips codes, and we standardized the data that we had for all the other columns in that dataframe. We used this data to create an entirely new dataframe called data2000 with only the elements that we needed from the results2000 dataframe."
   ]
  },
  {
   "cell_type": "code",
   "execution_count": 11,
   "metadata": {
    "scrolled": true
   },
   "outputs": [],
   "source": [
    "#create dataframe for 2000 results\n",
    "results2000['fips'] = 0\n",
    "fips = demog2000['fips']\n",
    "for i in range(67):\n",
    "    results2000.loc[i, 'fips'] = fips[i]\n",
    "for i in range(107, 262):\n",
    "    results2000.loc[i, 'fips'] = fips[i - 11]\n",
    "for i in range(262, 342):\n",
    "    results2000.loc[i, 'fips'] = fips[i - 10]\n",
    "    \n",
    "results2000.loc[342, 'fips'] = 12086 #Miami Dade County, FL\n",
    "for i in range(343, 373):\n",
    "    results2000.loc[i, 'fips'] = fips[i - 11]\n",
    "for i in range(373, 558):\n",
    "    results2000.loc[i, 'fips'] = fips[i - 10]    \n",
    "for i in range(558, 560):\n",
    "    results2000.loc[i, 'fips'] = fips[i - 9]\n",
    "for i in range(562, 1206):\n",
    "    results2000.loc[i, 'fips'] = fips[i - 11]\n",
    "\n",
    "results2000.loc[1206, 'fips'] = 24510 #Baltimore City, MD\n",
    "for i in range(1207, 1228):\n",
    "    results2000.loc[i, 'fips'] = fips[i - 12]\n",
    "for i in range(1228, 1758):\n",
    "    results2000.loc[i, 'fips'] = fips[i - 11]\n",
    "    \n",
    "results2000.loc[1758, 'fips'] = 32510 #Carson City, MD\n",
    "for i in range(1759, 1775):\n",
    "    results2000.loc[i, 'fips'] = fips[i - 12]\n",
    "for i in range(1775, 1841):\n",
    "    results2000.loc[i, 'fips'] = fips[i - 11]\n",
    "    \n",
    "for i in range(1841, 1861):\n",
    "    results2000.loc[i, 'fips'] = fips[i - 10]\n",
    "for i in range(1861, 1867):\n",
    "    results2000.loc[i, 'fips'] = fips[i - 9] \n",
    "for i in range(1867, 1876):\n",
    "    results2000.loc[i, 'fips'] = fips[i - 8]\n",
    "results2000.loc[1876, 'fips'] = 36083 #Rensselaer county NY\n",
    "for i in range(1877, 1896):\n",
    "    results2000.loc[i, 'fips'] = fips[i - 6]\n",
    "results2000.loc[1896, 'fips'] = 36005\n",
    "results2000.loc[1897, 'fips'] = 36047\n",
    "results2000.loc[1898, 'fips'] = 36061\n",
    "results2000.loc[1899, 'fips'] = 36081\n",
    "results2000.loc[1900, 'fips'] = 36085\n",
    "\n",
    "for i in range(1901, 2932):\n",
    "    results2000.loc[i, 'fips'] = fips[i - 11]\n",
    "for i in range(2933, 3155):\n",
    "    results2000.loc[i, 'fips'] = fips[i - 12]\n",
    "    \n",
    "results2000['PBUSH'] = pd.to_numeric(results2000['PBUSH'], errors='coerce')\n",
    "results2000['PGORE'] = pd.to_numeric(results2000['PGORE'], errors='coerce')\n",
    "results2000 = results2000.dropna()\n",
    "results2000['margin_R'] = 100*(results2000['PBUSH'] - results2000['PGORE'])\n",
    "\n",
    "data2000 = results2000[['fips', 'margin_R']].merge(demog2000[['density2000','whitePct2000','fips']], on='fips')"
   ]
  },
  {
   "cell_type": "markdown",
   "metadata": {},
   "source": [
    "In the next few cells, we did the same thing as above for the 2004, 2008, 2012, and 2016 results, calling the new dataframes data2004, data2008, data2012, and data2016."
   ]
  },
  {
   "cell_type": "code",
   "execution_count": 12,
   "metadata": {},
   "outputs": [],
   "source": [
    "#create dataframe for 2004 results\n",
    "results04_12['margin_R'] = results04_12['pct_rep'] - results04_12['pct_dem']\n",
    "data2004 = results04_12.loc[results04_12['year'] == 2004]\n",
    "data2004 = data2004[['fips', 'margin_R']].merge(demog2000[['density2004','whitePct2004','fips']], on='fips')"
   ]
  },
  {
   "cell_type": "code",
   "execution_count": 13,
   "metadata": {},
   "outputs": [],
   "source": [
    "#Create dataframe for 2008 results\n",
    "data2008 = results04_12.loc[results04_12['year'] == 2008]\n",
    "data2008 = data2008[['fips', 'margin_R']].merge(demog2000[['density2008','whitePct2008','fips']], on='fips')"
   ]
  },
  {
   "cell_type": "code",
   "execution_count": 14,
   "metadata": {},
   "outputs": [],
   "source": [
    "#Create dataframe for 2012 results\n",
    "data2012 = results04_12.loc[results04_12['year'] == 2012]\n",
    "data2012 = data2012[['fips', 'margin_R']].merge(demog2010[['density2012','whitePct2012','fips']], on='fips')"
   ]
  },
  {
   "cell_type": "code",
   "execution_count": 15,
   "metadata": {},
   "outputs": [],
   "source": [
    "#Create dataframe for 2016 results\n",
    "results2016['2016margin_R'] = (results2016['per_gop'] - results2016['per_dem'])*100\n",
    "results2016.drop(results2016.columns[[0, 1]], axis=1, inplace=True)\n",
    "data2016 = results2016.merge(demog2010[['density2016','whitePct2016','fips']], on='fips')\n",
    "data2016 = data2016.iloc[28:]"
   ]
  },
  {
   "cell_type": "markdown",
   "metadata": {},
   "source": [
    "As you can see in the cells below, we have printed out the first five rows of each of these five dataframes. They are now standardized and hold the same types of data!"
   ]
  },
  {
   "cell_type": "code",
   "execution_count": 19,
   "metadata": {},
   "outputs": [
    {
     "data": {
      "text/html": [
       "<div>\n",
       "<style scoped>\n",
       "    .dataframe tbody tr th:only-of-type {\n",
       "        vertical-align: middle;\n",
       "    }\n",
       "\n",
       "    .dataframe tbody tr th {\n",
       "        vertical-align: top;\n",
       "    }\n",
       "\n",
       "    .dataframe thead th {\n",
       "        text-align: right;\n",
       "    }\n",
       "</style>\n",
       "<table border=\"1\" class=\"dataframe\">\n",
       "  <thead>\n",
       "    <tr style=\"text-align: right;\">\n",
       "      <th></th>\n",
       "      <th>fips</th>\n",
       "      <th>margin_R</th>\n",
       "      <th>density2000</th>\n",
       "      <th>whitePct2000</th>\n",
       "    </tr>\n",
       "  </thead>\n",
       "  <tbody>\n",
       "    <tr>\n",
       "      <th>0</th>\n",
       "      <td>1001</td>\n",
       "      <td>40.97</td>\n",
       "      <td>74.055071</td>\n",
       "      <td>0.810840</td>\n",
       "    </tr>\n",
       "    <tr>\n",
       "      <th>1</th>\n",
       "      <td>1003</td>\n",
       "      <td>47.59</td>\n",
       "      <td>88.906417</td>\n",
       "      <td>0.878217</td>\n",
       "    </tr>\n",
       "    <tr>\n",
       "      <th>2</th>\n",
       "      <td>1005</td>\n",
       "      <td>0.89</td>\n",
       "      <td>32.789905</td>\n",
       "      <td>0.521523</td>\n",
       "    </tr>\n",
       "    <tr>\n",
       "      <th>3</th>\n",
       "      <td>1007</td>\n",
       "      <td>22.01</td>\n",
       "      <td>31.984542</td>\n",
       "      <td>0.790187</td>\n",
       "    </tr>\n",
       "    <tr>\n",
       "      <th>4</th>\n",
       "      <td>1009</td>\n",
       "      <td>42.79</td>\n",
       "      <td>79.263186</td>\n",
       "      <td>0.973409</td>\n",
       "    </tr>\n",
       "  </tbody>\n",
       "</table>\n",
       "</div>"
      ],
      "text/plain": [
       "   fips  margin_R  density2000  whitePct2000\n",
       "0  1001     40.97    74.055071      0.810840\n",
       "1  1003     47.59    88.906417      0.878217\n",
       "2  1005      0.89    32.789905      0.521523\n",
       "3  1007     22.01    31.984542      0.790187\n",
       "4  1009     42.79    79.263186      0.973409"
      ]
     },
     "execution_count": 19,
     "metadata": {},
     "output_type": "execute_result"
    }
   ],
   "source": [
    "data2000.head()"
   ]
  },
  {
   "cell_type": "code",
   "execution_count": 20,
   "metadata": {},
   "outputs": [
    {
     "data": {
      "text/html": [
       "<div>\n",
       "<style scoped>\n",
       "    .dataframe tbody tr th:only-of-type {\n",
       "        vertical-align: middle;\n",
       "    }\n",
       "\n",
       "    .dataframe tbody tr th {\n",
       "        vertical-align: top;\n",
       "    }\n",
       "\n",
       "    .dataframe thead th {\n",
       "        text-align: right;\n",
       "    }\n",
       "</style>\n",
       "<table border=\"1\" class=\"dataframe\">\n",
       "  <thead>\n",
       "    <tr style=\"text-align: right;\">\n",
       "      <th></th>\n",
       "      <th>fips</th>\n",
       "      <th>margin_R</th>\n",
       "      <th>density2004</th>\n",
       "      <th>whitePct2004</th>\n",
       "    </tr>\n",
       "  </thead>\n",
       "  <tbody>\n",
       "    <tr>\n",
       "      <th>0</th>\n",
       "      <td>1001</td>\n",
       "      <td>52.0</td>\n",
       "      <td>81.364520</td>\n",
       "      <td>0.804139</td>\n",
       "    </tr>\n",
       "    <tr>\n",
       "      <th>1</th>\n",
       "      <td>1003</td>\n",
       "      <td>53.9</td>\n",
       "      <td>98.293856</td>\n",
       "      <td>0.877581</td>\n",
       "    </tr>\n",
       "    <tr>\n",
       "      <th>2</th>\n",
       "      <td>1005</td>\n",
       "      <td>9.9</td>\n",
       "      <td>31.967191</td>\n",
       "      <td>0.512780</td>\n",
       "    </tr>\n",
       "    <tr>\n",
       "      <th>3</th>\n",
       "      <td>1007</td>\n",
       "      <td>44.5</td>\n",
       "      <td>34.888577</td>\n",
       "      <td>0.770176</td>\n",
       "    </tr>\n",
       "    <tr>\n",
       "      <th>4</th>\n",
       "      <td>1009</td>\n",
       "      <td>62.6</td>\n",
       "      <td>83.942330</td>\n",
       "      <td>0.967353</td>\n",
       "    </tr>\n",
       "  </tbody>\n",
       "</table>\n",
       "</div>"
      ],
      "text/plain": [
       "   fips  margin_R  density2004  whitePct2004\n",
       "0  1001      52.0    81.364520      0.804139\n",
       "1  1003      53.9    98.293856      0.877581\n",
       "2  1005       9.9    31.967191      0.512780\n",
       "3  1007      44.5    34.888577      0.770176\n",
       "4  1009      62.6    83.942330      0.967353"
      ]
     },
     "execution_count": 20,
     "metadata": {},
     "output_type": "execute_result"
    }
   ],
   "source": [
    "data2004.head()"
   ]
  },
  {
   "cell_type": "code",
   "execution_count": 21,
   "metadata": {},
   "outputs": [
    {
     "data": {
      "text/html": [
       "<div>\n",
       "<style scoped>\n",
       "    .dataframe tbody tr th:only-of-type {\n",
       "        vertical-align: middle;\n",
       "    }\n",
       "\n",
       "    .dataframe tbody tr th {\n",
       "        vertical-align: top;\n",
       "    }\n",
       "\n",
       "    .dataframe thead th {\n",
       "        text-align: right;\n",
       "    }\n",
       "</style>\n",
       "<table border=\"1\" class=\"dataframe\">\n",
       "  <thead>\n",
       "    <tr style=\"text-align: right;\">\n",
       "      <th></th>\n",
       "      <th>fips</th>\n",
       "      <th>margin_R</th>\n",
       "      <th>density2008</th>\n",
       "      <th>whitePct2008</th>\n",
       "    </tr>\n",
       "  </thead>\n",
       "  <tbody>\n",
       "    <tr>\n",
       "      <th>0</th>\n",
       "      <td>1001</td>\n",
       "      <td>47.8</td>\n",
       "      <td>89.626133</td>\n",
       "      <td>0.795071</td>\n",
       "    </tr>\n",
       "    <tr>\n",
       "      <th>1</th>\n",
       "      <td>1003</td>\n",
       "      <td>51.5</td>\n",
       "      <td>110.598044</td>\n",
       "      <td>0.877749</td>\n",
       "    </tr>\n",
       "    <tr>\n",
       "      <th>2</th>\n",
       "      <td>1005</td>\n",
       "      <td>1.4</td>\n",
       "      <td>31.425872</td>\n",
       "      <td>0.512119</td>\n",
       "    </tr>\n",
       "    <tr>\n",
       "      <th>3</th>\n",
       "      <td>1007</td>\n",
       "      <td>45.8</td>\n",
       "      <td>36.469092</td>\n",
       "      <td>0.766087</td>\n",
       "    </tr>\n",
       "    <tr>\n",
       "      <th>4</th>\n",
       "      <td>1009</td>\n",
       "      <td>69.5</td>\n",
       "      <td>88.488095</td>\n",
       "      <td>0.966366</td>\n",
       "    </tr>\n",
       "  </tbody>\n",
       "</table>\n",
       "</div>"
      ],
      "text/plain": [
       "   fips  margin_R  density2008  whitePct2008\n",
       "0  1001      47.8    89.626133      0.795071\n",
       "1  1003      51.5   110.598044      0.877749\n",
       "2  1005       1.4    31.425872      0.512119\n",
       "3  1007      45.8    36.469092      0.766087\n",
       "4  1009      69.5    88.488095      0.966366"
      ]
     },
     "execution_count": 21,
     "metadata": {},
     "output_type": "execute_result"
    }
   ],
   "source": [
    "data2008.head()"
   ]
  },
  {
   "cell_type": "code",
   "execution_count": 22,
   "metadata": {},
   "outputs": [
    {
     "data": {
      "text/html": [
       "<div>\n",
       "<style scoped>\n",
       "    .dataframe tbody tr th:only-of-type {\n",
       "        vertical-align: middle;\n",
       "    }\n",
       "\n",
       "    .dataframe tbody tr th {\n",
       "        vertical-align: top;\n",
       "    }\n",
       "\n",
       "    .dataframe thead th {\n",
       "        text-align: right;\n",
       "    }\n",
       "</style>\n",
       "<table border=\"1\" class=\"dataframe\">\n",
       "  <thead>\n",
       "    <tr style=\"text-align: right;\">\n",
       "      <th></th>\n",
       "      <th>fips</th>\n",
       "      <th>margin_R</th>\n",
       "      <th>density2012</th>\n",
       "      <th>whitePct2012</th>\n",
       "    </tr>\n",
       "  </thead>\n",
       "  <tbody>\n",
       "    <tr>\n",
       "      <th>0</th>\n",
       "      <td>1001</td>\n",
       "      <td>45.95</td>\n",
       "      <td>92.401873</td>\n",
       "      <td>0.788064</td>\n",
       "    </tr>\n",
       "    <tr>\n",
       "      <th>1</th>\n",
       "      <td>1003</td>\n",
       "      <td>55.82</td>\n",
       "      <td>119.543284</td>\n",
       "      <td>0.874358</td>\n",
       "    </tr>\n",
       "    <tr>\n",
       "      <th>2</th>\n",
       "      <td>1005</td>\n",
       "      <td>-3.14</td>\n",
       "      <td>30.710518</td>\n",
       "      <td>0.504287</td>\n",
       "    </tr>\n",
       "    <tr>\n",
       "      <th>3</th>\n",
       "      <td>1007</td>\n",
       "      <td>46.68</td>\n",
       "      <td>36.393600</td>\n",
       "      <td>0.768294</td>\n",
       "    </tr>\n",
       "    <tr>\n",
       "      <th>4</th>\n",
       "      <td>1009</td>\n",
       "      <td>73.93</td>\n",
       "      <td>89.325595</td>\n",
       "      <td>0.962393</td>\n",
       "    </tr>\n",
       "  </tbody>\n",
       "</table>\n",
       "</div>"
      ],
      "text/plain": [
       "   fips  margin_R  density2012  whitePct2012\n",
       "0  1001     45.95    92.401873      0.788064\n",
       "1  1003     55.82   119.543284      0.874358\n",
       "2  1005     -3.14    30.710518      0.504287\n",
       "3  1007     46.68    36.393600      0.768294\n",
       "4  1009     73.93    89.325595      0.962393"
      ]
     },
     "execution_count": 22,
     "metadata": {},
     "output_type": "execute_result"
    }
   ],
   "source": [
    "data2012.head()"
   ]
  },
  {
   "cell_type": "code",
   "execution_count": 23,
   "metadata": {},
   "outputs": [
    {
     "data": {
      "text/html": [
       "<div>\n",
       "<style scoped>\n",
       "    .dataframe tbody tr th:only-of-type {\n",
       "        vertical-align: middle;\n",
       "    }\n",
       "\n",
       "    .dataframe tbody tr th {\n",
       "        vertical-align: top;\n",
       "    }\n",
       "\n",
       "    .dataframe thead th {\n",
       "        text-align: right;\n",
       "    }\n",
       "</style>\n",
       "<table border=\"1\" class=\"dataframe\">\n",
       "  <thead>\n",
       "    <tr style=\"text-align: right;\">\n",
       "      <th></th>\n",
       "      <th>fips</th>\n",
       "      <th>2016margin_R</th>\n",
       "      <th>density2016</th>\n",
       "      <th>whitePct2016</th>\n",
       "    </tr>\n",
       "  </thead>\n",
       "  <tbody>\n",
       "    <tr>\n",
       "      <th>28</th>\n",
       "      <td>1001</td>\n",
       "      <td>49.478934</td>\n",
       "      <td>92.992349</td>\n",
       "      <td>0.771953</td>\n",
       "    </tr>\n",
       "    <tr>\n",
       "      <th>29</th>\n",
       "      <td>1003</td>\n",
       "      <td>57.786162</td>\n",
       "      <td>130.526537</td>\n",
       "      <td>0.871702</td>\n",
       "    </tr>\n",
       "    <tr>\n",
       "      <th>30</th>\n",
       "      <td>1005</td>\n",
       "      <td>5.611165</td>\n",
       "      <td>29.127245</td>\n",
       "      <td>0.496857</td>\n",
       "    </tr>\n",
       "    <tr>\n",
       "      <th>31</th>\n",
       "      <td>1007</td>\n",
       "      <td>55.544124</td>\n",
       "      <td>36.353444</td>\n",
       "      <td>0.766624</td>\n",
       "    </tr>\n",
       "    <tr>\n",
       "      <th>32</th>\n",
       "      <td>1009</td>\n",
       "      <td>81.381973</td>\n",
       "      <td>89.274415</td>\n",
       "      <td>0.960217</td>\n",
       "    </tr>\n",
       "  </tbody>\n",
       "</table>\n",
       "</div>"
      ],
      "text/plain": [
       "    fips  2016margin_R  density2016  whitePct2016\n",
       "28  1001     49.478934    92.992349      0.771953\n",
       "29  1003     57.786162   130.526537      0.871702\n",
       "30  1005      5.611165    29.127245      0.496857\n",
       "31  1007     55.544124    36.353444      0.766624\n",
       "32  1009     81.381973    89.274415      0.960217"
      ]
     },
     "execution_count": 23,
     "metadata": {},
     "output_type": "execute_result"
    }
   ],
   "source": [
    "data2016.head()"
   ]
  },
  {
   "cell_type": "markdown",
   "metadata": {},
   "source": [
    "# Data Analysis & Results"
   ]
  },
  {
   "cell_type": "markdown",
   "metadata": {},
   "source": [
    "Allison TODO describe the steps"
   ]
  },
  {
   "cell_type": "code",
   "execution_count": 18,
   "metadata": {},
   "outputs": [
    {
     "name": "stdout",
     "output_type": "stream",
     "text": [
      "       fips  margin_R  density2000  whitePct2000\n",
      "0      1001     40.97    74.055071      0.810840\n",
      "1      1003     47.59    88.906417      0.878217\n",
      "2      1005      0.89    32.789905      0.521523\n",
      "3      1007     22.01    31.984542      0.790187\n",
      "4      1009     42.79    79.263186      0.973409\n",
      "5      1011    -40.01    18.594905      0.255764\n",
      "6      1013      6.68    27.451344      0.583400\n",
      "7      1015     16.77   183.341916      0.794060\n",
      "8      1017      3.55    61.306118      0.609417\n",
      "9      1019      8.40    43.355608      0.932767\n",
      "10     1021     34.86    57.583560      0.884076\n",
      "11     1023     -1.45    17.378216      0.550110\n",
      "12     1025     12.17    22.462484      0.559725\n",
      "13     1027     28.46    23.615763      0.832153\n",
      "14     1029     32.78    25.302625      0.952159\n",
      "15     1031     30.57    64.185268      0.780610\n",
      "16     1033     -0.11    92.803302      0.818572\n",
      "17     1035     -1.52    16.508735      0.552120\n",
      "18     1037      6.09    18.195617      0.655015\n",
      "19     1039     33.21    36.405242      0.864104\n",
      "20     1041     17.92    22.488667      0.739848\n",
      "21     1043     31.83   105.428249      0.975798\n",
      "22     1045     35.98    87.541656      0.757593\n",
      "23     1047    -19.54    47.203674      0.356704\n",
      "24     1049     28.45    83.194676      0.960124\n",
      "25     1051     42.54   106.971066      0.775529\n",
      "26     1053     21.03    40.552123      0.648558\n",
      "27     1055      9.29   193.061192      0.836086\n",
      "28     1057     19.44    29.493675      0.873001\n",
      "29     1059     11.94    49.291519      0.944818\n",
      "...     ...       ...          ...           ...\n",
      "3082  55129      2.70    20.115090      0.974679\n",
      "3083  55131     37.53   273.894075      0.982241\n",
      "3084  55133     33.76   658.999516      0.967609\n",
      "3085  55135     18.39    69.513303      0.985782\n",
      "3086  55137     13.00    36.850418      0.983228\n",
      "3087  55139      5.71   361.582740      0.957162\n",
      "3088  55141      5.22    95.176494      0.968034\n",
      "3089  56001     19.40     7.479456      0.942846\n",
      "3090  56003     55.23     3.633295      0.979733\n",
      "3091  56005     65.67     7.074965      0.974190\n",
      "3092  56007     32.89     1.973010      0.962200\n",
      "3093  56009     54.94     2.839796      0.974758\n",
      "3094  56011     70.42     2.067679      0.982548\n",
      "3095  56013     41.37     3.902518      0.783036\n",
      "3096  56015     44.98     5.644401      0.979619\n",
      "3097  56017     50.55     2.420548      0.967636\n",
      "3098  56019     65.67     1.711059      0.980304\n",
      "3099  56021     27.28    30.464513      0.935105\n",
      "3100  56023     61.81     3.586982      0.980713\n",
      "3101  56025     34.49    12.471650      0.965392\n",
      "3102  56027     61.93     0.912401      0.986644\n",
      "3103  56029     58.12     3.719491      0.981410\n",
      "3104  56031     38.33     4.192960      0.981348\n",
      "3105  56033     41.64    10.532517      0.970170\n",
      "3106  56035     67.35     1.220292      0.981721\n",
      "3107  56037     24.88     3.601541      0.962585\n",
      "3108  56039     13.76     4.600565      0.977586\n",
      "3109  56041     51.49     9.449066      0.976203\n",
      "3110  56043     57.56     3.686316      0.972855\n",
      "3111  56045     67.72     2.763450      0.972687\n",
      "\n",
      "[3112 rows x 4 columns]\n"
     ]
    }
   ],
   "source": [
    "## YOUR CODE HERE\n",
    "## FEEL FREE TO ADD MULTIPLE CELLS PER SECTION\n",
    "\n",
    "# From allison - took away the tostring() to make it easier to read/scroll\n",
    "print(data2000)\n",
    "\n",
    "#For each year, compare how correlated vote shares (either R% - D% or D% - R%) correlate with county density \n",
    "#the % of white population over time. i.e. how well can a county's density or white demographic predict it's \n",
    "#electoral margin? Then check the correlations of each R-value over time to confirm our hypothesis."
   ]
  },
  {
   "cell_type": "code",
   "execution_count": 19,
   "metadata": {},
   "outputs": [
    {
     "name": "stdout",
     "output_type": "stream",
     "text": [
      "       fips  margin_R  density2004  whitePct2004\n",
      "0      1001      52.0    81.364520      0.804139\n",
      "1      1003      53.9    98.293856      0.877581\n",
      "2      1005       9.9    31.967191      0.512780\n",
      "3      1007      44.5    34.888577      0.770176\n",
      "4      1009      62.6    83.942330      0.967353\n",
      "5      1011     -36.4    17.751945      0.264743\n",
      "6      1013      18.6    26.865629      0.570149\n",
      "7      1015      32.6   187.271815      0.781477\n",
      "8      1017      17.5    59.448713      0.600570\n",
      "9      1019      31.9    44.946722      0.932897\n",
      "10     1021      54.3    59.946251      0.883060\n",
      "11     1023       8.2    16.343733      0.555928\n",
      "12     1025      18.5    21.767268      0.557200\n",
      "13     1027      41.5    23.380649      0.831811\n",
      "14     1029      51.4    25.600786      0.950136\n",
      "15     1031      48.5    66.354724      0.778883\n",
      "16     1033      10.8    91.762161      0.819143\n",
      "17     1035       9.1    15.797101      0.538719\n",
      "18     1037      17.0    17.759315      0.656401\n",
      "19     1039      52.6    35.718167      0.860403\n",
      "20     1041      37.8    22.546153      0.737597\n",
      "21     1043      53.3   106.323681      0.971548\n",
      "22     1045      50.1    87.757284      0.756889\n",
      "23     1047     -20.7    45.770133      0.328563\n",
      "24     1049      40.6    86.553347      0.945555\n",
      "25     1051      54.3   114.825744      0.775310\n",
      "26     1053      37.9    39.904558      0.644314\n",
      "27     1055      27.4   192.676138      0.830966\n",
      "28     1057      39.1    28.712997      0.873377\n",
      "29     1059      25.9    48.543674      0.940458\n",
      "...     ...       ...          ...           ...\n",
      "3084  55129       0.6    20.230507      0.971723\n",
      "3085  55131      40.6   288.077863      0.974427\n",
      "3086  55133      35.3   684.608442      0.957857\n",
      "3087  55135      19.1    70.354534      0.983709\n",
      "3088  55137      13.3    39.182117      0.970408\n",
      "3089  55139       6.3   368.549577      0.949978\n",
      "3090  55141       4.1    94.770500      0.965063\n",
      "3091  56001      11.4     7.857103      0.938416\n",
      "3092  56003      61.9     3.580061      0.976850\n",
      "3093  56005      65.9     7.684621      0.965481\n",
      "3094  56007      36.7     1.929199      0.960029\n",
      "3095  56009      57.0     2.902547      0.973198\n",
      "3096  56011      68.7     2.120229      0.980337\n",
      "3097  56013      35.7     3.961644      0.770387\n",
      "3098  56015      44.1     5.604858      0.977231\n",
      "3099  56017      48.0     2.309774      0.966083\n",
      "3100  56019      64.1     1.818421      0.977760\n",
      "3101  56021      32.1    31.805584      0.930280\n",
      "3102  56023      64.0     3.812195      0.977991\n",
      "3103  56025      36.3    12.927051      0.957934\n",
      "3104  56027      63.5     0.883080      0.981889\n",
      "3105  56029      55.6     3.756512      0.977644\n",
      "3106  56031      39.8     4.188641      0.979611\n",
      "3107  56033      40.1    10.674356      0.966261\n",
      "3108  56035      58.0     1.447242      0.973133\n",
      "3109  56037      33.5     3.647001      0.956688\n",
      "3110  56039      -7.5     4.872379      0.971490\n",
      "3111  56041      52.8     9.354892      0.970827\n",
      "3112  56043      57.0     3.555875      0.966709\n",
      "3113  56045      63.6     2.771373      0.970509\n",
      "\n",
      "[3114 rows x 4 columns]\n"
     ]
    }
   ],
   "source": [
    "# From allison - took away the tostring() to make it easier to read/scroll\n",
    "print(data2004)"
   ]
  },
  {
   "cell_type": "code",
   "execution_count": 20,
   "metadata": {},
   "outputs": [
    {
     "name": "stdout",
     "output_type": "stream",
     "text": [
      "       fips  margin_R  density2008  whitePct2008\n",
      "0      1001     47.80    89.626133      0.795071\n",
      "1      1003     51.50   110.598044      0.877749\n",
      "2      1005      1.40    31.425872      0.512119\n",
      "3      1007     45.80    36.469092      0.766087\n",
      "4      1009     69.50    88.488095      0.966366\n",
      "5      1011    -48.40    17.586564      0.265407\n",
      "6      1013     13.40    26.967325      0.547854\n",
      "7      1015     32.50   193.563615      0.767493\n",
      "8      1017      8.40    57.939990      0.593351\n",
      "9      1019     51.20    46.299440      0.931542\n",
      "10     1021     57.80    62.407087      0.882259\n",
      "11     1023      7.40    15.450465      0.552784\n",
      "12     1025     11.60    21.222239      0.549405\n",
      "13     1027     47.30    23.446878      0.825719\n",
      "14     1029     62.40    26.555972      0.950249\n",
      "15     1031     48.90    71.455082      0.775847\n",
      "16     1033     20.20    91.919091      0.816790\n",
      "17     1035      0.60    15.747698      0.521138\n",
      "18     1037     17.50    17.656385      0.661620\n",
      "19     1039     58.30    36.435326      0.853909\n",
      "20     1041     37.90    22.866435      0.728918\n",
      "21     1043     65.30   109.238597      0.968645\n",
      "22     1045     44.60    88.872850      0.756953\n",
      "23     1047    -34.50    45.228595      0.299492\n",
      "24     1049     51.20    90.372710      0.932961\n",
      "25     1051     50.90   125.626329      0.775348\n",
      "26     1053     28.50    40.133110      0.632577\n",
      "27     1055     38.20   194.780847      0.823187\n",
      "28     1057     48.80    27.946659      0.867054\n",
      "29     1059     39.10    49.633887      0.930990\n",
      "...     ...       ...          ...           ...\n",
      "3084  55129     -4.28    20.076200      0.970193\n",
      "3085  55131     29.58   303.677940      0.967904\n",
      "3086  55133     25.68   703.619531      0.948349\n",
      "3087  55135     -2.82    70.338485      0.981233\n",
      "3088  55137     -0.82    39.543051      0.962722\n",
      "3089  55139    -11.66   379.551057      0.941689\n",
      "3090  55141    -13.13    93.957252      0.960050\n",
      "3091  56001     -4.14     8.105825      0.932194\n",
      "3092  56003     55.31     3.639989      0.972327\n",
      "3093  56005     61.40     8.921215      0.958503\n",
      "3094  56007     29.11     1.982633      0.959893\n",
      "3095  56009     54.91     3.169535      0.971452\n",
      "3096  56011     63.94     2.390338      0.979774\n",
      "3097  56013     28.80     4.236475      0.756342\n",
      "3098  56015     35.69     5.739216      0.972518\n",
      "3099  56017     47.72     2.344204      0.966156\n",
      "3100  56019     55.72     2.036516      0.974468\n",
      "3101  56021     20.37    33.164527      0.926333\n",
      "3102  56023     54.41     4.324937      0.976686\n",
      "3103  56025     34.36    13.797218      0.951929\n",
      "3104  56027     59.78     0.939438      0.972842\n",
      "3105  56029     47.26     3.974891      0.972675\n",
      "3106  56031     34.97     4.136823      0.976804\n",
      "3107  56033     38.17    11.277765      0.963745\n",
      "3108  56035     54.63     1.938796      0.968651\n",
      "3109  56037     27.52     4.062475      0.952500\n",
      "3110  56039    -23.60     5.253069      0.966505\n",
      "3111  56041     41.11     9.904078      0.966574\n",
      "3112  56043     46.81     3.676042      0.959169\n",
      "3113  56045     57.77     2.974452      0.964671\n",
      "\n",
      "[3114 rows x 4 columns]\n"
     ]
    }
   ],
   "source": [
    "# From allison - took away the tostring() to make it easier to read/scroll\n",
    "print(data2008)"
   ]
  },
  {
   "cell_type": "code",
   "execution_count": 21,
   "metadata": {},
   "outputs": [
    {
     "name": "stdout",
     "output_type": "stream",
     "text": [
      "       fips  margin_R  density2012  whitePct2012\n",
      "0      1001     45.95    92.401873      0.788064\n",
      "1      1003     55.82   119.543284      0.874358\n",
      "2      1005     -3.14    30.710518      0.504287\n",
      "3      1007     46.68    36.393600      0.768294\n",
      "4      1009     73.93    89.325595      0.962393\n",
      "5      1011    -52.80    17.039041      0.271202\n",
      "6      1013      7.51    26.631344      0.542053\n",
      "7      1015     31.95   193.472836      0.761634\n",
      "8      1017      5.16    57.150425      0.588379\n",
      "9      1019     54.88    46.880982      0.931736\n",
      "10     1021     60.25    62.929564      0.877962\n",
      "11     1023      4.59    14.845101      0.561389\n",
      "12     1025      8.20    20.309012      0.544529\n",
      "13     1027     45.51    22.243158      0.832366\n",
      "14     1029     68.06    26.582753      0.948485\n",
      "15     1031     49.14    75.279982      0.768396\n",
      "16     1033     20.34    92.081084      0.809929\n",
      "17     1035     -1.65    15.339538      0.516218\n",
      "18     1037     16.24    17.432089      0.663788\n",
      "19     1039     58.27    36.685700      0.849959\n",
      "20     1041     35.51    22.856580      0.722118\n",
      "21     1043     69.30   109.241319      0.966540\n",
      "22     1045     42.05    89.614185      0.756438\n",
      "23     1047    -39.71    43.726595      0.288492\n",
      "24     1049     54.67    91.294092      0.928634\n",
      "25     1051     48.67   129.704035      0.764622\n",
      "26     1053     25.50    40.237863      0.626091\n",
      "27     1055     38.30   194.876175      0.816645\n",
      "28     1057     53.24    26.995507      0.869924\n",
      "29     1059     40.40    49.947856      0.923463\n",
      "...     ...       ...          ...           ...\n",
      "3081  55129      2.72    19.884257      0.961767\n",
      "3082  55131     40.13   308.198457      0.964344\n",
      "3083  55133     34.45   714.497047      0.941419\n",
      "3084  55135      9.38    69.425033      0.976922\n",
      "3085  55137     10.19    39.003247      0.956105\n",
      "3086  55139     -3.73   387.917245      0.933377\n",
      "3087  55141      2.88    93.708865      0.955975\n",
      "3088  56001      2.51     8.735002      0.921140\n",
      "3089  56003     64.18     3.750283      0.962431\n",
      "3090  56005     72.79     9.965417      0.953637\n",
      "3091  56007     31.31     1.992003      0.946288\n",
      "3092  56009     62.33     3.296213      0.962282\n",
      "3093  56011     72.81     2.501745      0.972553\n",
      "3094  56013     33.90     4.466772      0.749135\n",
      "3095  56015     46.85     6.130159      0.963715\n",
      "3096  56017     54.55     2.411566      0.960894\n",
      "3097  56019     61.37     2.079124      0.957161\n",
      "3098  56021     24.32    35.259532      0.921629\n",
      "3099  56023     67.97     4.400744      0.968224\n",
      "3100  56025     40.69    14.714948      0.943385\n",
      "3101  56027     64.42     0.942866      0.964863\n",
      "3102  56029     56.86     4.167772      0.961083\n",
      "3103  56031     42.22     4.188641      0.968843\n",
      "3104  56033     46.43    11.698923      0.955974\n",
      "3105  56035     61.81     2.144873      0.957733\n",
      "3106  56037     39.38     4.319892      0.946050\n",
      "3107  56039    -11.82     5.433527      0.955641\n",
      "3108  56041     58.40    10.089542      0.959855\n",
      "3109  56043     56.29     3.761812      0.954518\n",
      "3110  56045     71.42     2.949849      0.954340\n",
      "\n",
      "[3111 rows x 4 columns]\n"
     ]
    }
   ],
   "source": [
    "# From allison - took away the tostring() to make it easier to read/scroll\n",
    "print(data2012)"
   ]
  },
  {
   "cell_type": "code",
   "execution_count": 22,
   "metadata": {},
   "outputs": [
    {
     "name": "stdout",
     "output_type": "stream",
     "text": [
      "       fips  2016margin_R  density2016  whitePct2016\n",
      "28     1001     49.478934    92.992349      0.771953\n",
      "29     1003     57.786162   130.526537      0.871702\n",
      "30     1005      5.611165    29.127245      0.496857\n",
      "31     1007     55.544124    36.353444      0.766624\n",
      "32     1009     81.381973    89.274415      0.960217\n",
      "33     1011    -50.861519    16.764477      0.265683\n",
      "34     1013     13.529073    25.700637      0.528525\n",
      "35     1015     41.383823   189.777311      0.755227\n",
      "36     1017     14.806213    56.521790      0.574517\n",
      "37     1019     69.361135    46.534224      0.930645\n",
      "38     1021     66.606409    63.260081      0.872051\n",
      "39     1023     13.662631    14.285714      0.572337\n",
      "40     1025     10.799320    19.661436      0.537536\n",
      "41     1027     60.803408    22.203420      0.829978\n",
      "42     1029     77.372933    26.554187      0.948363\n",
      "43     1031     56.700629    75.433155      0.759806\n",
      "44     1033     38.260375    91.672727      0.808014\n",
      "45     1035      5.257527    14.720828      0.509469\n",
      "46     1037     30.557151    16.605574      0.669442\n",
      "47     1039     68.548489    36.281025      0.846119\n",
      "48     1041     45.553423    22.841798      0.725606\n",
      "49     1043     77.804603   112.026955      0.961711\n",
      "50     1045     50.437772    87.726989      0.746181\n",
      "51     1047    -37.597437    40.953515      0.280108\n",
      "52     1049     69.374377    91.644115      0.928906\n",
      "53     1051     51.979407   131.353226      0.758592\n",
      "54     1053     36.705449    39.653786      0.617969\n",
      "55     1055     50.103510   192.014445      0.810068\n",
      "56     1057     65.239141    26.348660      0.862075\n",
      "57     1059     60.803011    49.820060      0.916332\n",
      "...     ...           ...          ...           ...\n",
      "3109  54097     56.732026    69.394707      0.973222\n",
      "3110  54099     51.346154    80.398276      0.980826\n",
      "3111  54101     58.544839    15.493217      0.978076\n",
      "3112  54103     50.282668    43.682257      0.980500\n",
      "3113  54105     63.070539    24.816244      0.976430\n",
      "3114  54107     47.767756   234.035931      0.962587\n",
      "3115  54109     69.996158    43.553648      0.978118\n",
      "3116  56001      4.342266     8.888260      0.912444\n",
      "3117  56003     68.379602     3.806385      0.960389\n",
      "3118  56005     80.591023    10.160932      0.950000\n",
      "3119  56007     50.483871     1.991370      0.942901\n",
      "3120  56009     74.053724     3.320185      0.956820\n",
      "3121  56011     81.569875     2.626464      0.966653\n",
      "3122  56013     42.114490     4.382166      0.743322\n",
      "3123  56015     61.212334     6.001193      0.957095\n",
      "3124  56017     60.710059     2.329733      0.956950\n",
      "3125  56019     65.279375     2.045182      0.953743\n",
      "3126  56021     33.225685    36.474762      0.918688\n",
      "3127  56023     67.563706     4.679930      0.966345\n",
      "3128  56025     52.165082    15.147316      0.940909\n",
      "3129  56027     77.178103     0.940581      0.945749\n",
      "3130  56029     58.630586     4.236772      0.960832\n",
      "3131  56031     60.941704     4.162253      0.961499\n",
      "3132  56033     51.737506    11.905342      0.952411\n",
      "3133  56035     64.347219     2.046848      0.957908\n",
      "3134  56037     53.538203     4.243453      0.941892\n",
      "3135  56039    -27.866294     5.801702      0.955220\n",
      "3136  56041     61.492611     9.951164      0.955821\n",
      "3137  56043     64.037685     3.657727      0.947362\n",
      "3138  56045     78.104379     3.001557      0.947485\n",
      "\n",
      "[3111 rows x 4 columns]\n"
     ]
    }
   ],
   "source": [
    "#From allison - i took away the tostring() to make it easier to scroll\n",
    "print(data2016)"
   ]
  },
  {
   "cell_type": "markdown",
   "metadata": {},
   "source": [
    "# Ethics & Privacy"
   ]
  },
  {
   "cell_type": "markdown",
   "metadata": {},
   "source": [
    "One major ethical consideration is that individual voter data and voter records are private & confidential. However, we are using population metrics, which do not single out specific voters, so the issue of voter privacy is less pressing. \n",
    "\n",
    "The other major ethical issue to take into account is how these data can be used in the future, considering the prevalence of gerrymandering in this country. The more that lawmakers know about the voting patterns of specific counties, the more they can change county lines to maximize the likelihood of members of their party being elected."
   ]
  },
  {
   "cell_type": "markdown",
   "metadata": {},
   "source": [
    "# Conclusion & Discussion"
   ]
  },
  {
   "cell_type": "markdown",
   "metadata": {},
   "source": [
    "*Fill in your discussion information here*"
   ]
  }
 ],
 "metadata": {
  "kernelspec": {
   "display_name": "Python 3",
   "language": "python",
   "name": "python3"
  },
  "language_info": {
   "codemirror_mode": {
    "name": "ipython",
    "version": 3
   },
   "file_extension": ".py",
   "mimetype": "text/x-python",
   "name": "python",
   "nbconvert_exporter": "python",
   "pygments_lexer": "ipython3",
   "version": "3.6.7"
  }
 },
 "nbformat": 4,
 "nbformat_minor": 2
}

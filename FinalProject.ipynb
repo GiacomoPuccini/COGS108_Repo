{
 "cells": [
  {
   "cell_type": "markdown",
   "metadata": {},
   "source": [
    "# COGS 108 - Final Project "
   ]
  },
  {
   "cell_type": "markdown",
   "metadata": {},
   "source": [
    "# Overview"
   ]
  },
  {
   "cell_type": "markdown",
   "metadata": {},
   "source": [
    "In this project, we will analyze county-level results of US presidential elections from 2000-2016 and the strength of the correlation of partisan vote share with 2 factors over time. Specifically, for each year, we calculate the strength of population density correlation...and see which factors have strongly (or less strongly) correlated over time. This will help tell if certain variable is a better predictor of a county's vote over time and could even predict patterns in the upcoming 2020 election."
   ]
  },
  {
   "cell_type": "markdown",
   "metadata": {},
   "source": [
    "# Names\n",
    "\n",
    "- Nancy Bui\n",
    "- Jayvee Inthisone\n",
    "- Katarina Stefanovic\n",
    "- Allison Tietz\n",
    "- Frank Zhou"
   ]
  },
  {
   "cell_type": "markdown",
   "metadata": {},
   "source": [
    "# Group Members IDs\n",
    "\n",
    "- A########\n",
    "- A########\n",
    "- A########\n",
    "- A14854110\n",
    "- A14672642"
   ]
  },
  {
   "cell_type": "markdown",
   "metadata": {},
   "source": [
    "# Research Question"
   ]
  },
  {
   "cell_type": "markdown",
   "metadata": {},
   "source": [
    "How are presidential election margins in each county correlated with county population density and racial makeup and which factors have correlated more strongly (or less) over time?"
   ]
  },
  {
   "cell_type": "markdown",
   "metadata": {},
   "source": [
    "## Background and Prior Work"
   ]
  },
  {
   "cell_type": "markdown",
   "metadata": {},
   "source": [
    "*Fill in your background and prior work here* \n",
    "\n",
    "References (include links):\n",
    "- 1)\n",
    "- 2)"
   ]
  },
  {
   "cell_type": "markdown",
   "metadata": {},
   "source": [
    "# Hypothesis\n"
   ]
  },
  {
   "cell_type": "markdown",
   "metadata": {},
   "source": [
    "In each presidential year since 2000, the Democratic margin in each county has been increasingly positively correlated with"
   ]
  },
  {
   "cell_type": "markdown",
   "metadata": {},
   "source": [
    "# Dataset(s)"
   ]
  },
  {
   "cell_type": "markdown",
   "metadata": {},
   "source": [
    "Demographics:\n",
    "\n",
    "- Dataset Name: Intercensal Estimates of the Resident Population by Sex, Race, and Hispanic Origin for Counties: April 1, 2000 to July 1, 2010\n",
    "- Link to the dataset: https://www.census.gov/data/datasets/time-series/demo/popest/intercensal-2000-2010-counties.html\n",
    "- Number of observations:\n",
    "\n",
    "\n",
    "- Dataset Name: Annual County Resident Population Estimates by Age, Sex, Race, and Hispanic Origin: April 1, 2010 to July 1, 2017 (United States)\n",
    "- Link to the dataset: https://www.census.gov/data/datasets/2017/demo/popest/counties-detail.html\n",
    "- Number of observations:\n",
    "\n",
    "Election Results:\n",
    "\n",
    "- Dataset Name: 2000 Election Data by State (All States by County)\n",
    "- Link to the dataset: https://www.american.edu/spa/ccps/Data-Sets.cfm\n",
    "- Number of observations:\n",
    "\n",
    "\n",
    "- Dataset Name: US presidential election county results 2004 through 2012\n",
    "- Link to the dataset: https://github.com/helloworlddata/us-presidential-election-county-results/tree/master/data\n",
    "- Number of observations:\n",
    "\n",
    "\n",
    "- Dataset Name: 2016 US County Level Presidential Results\n",
    "- Link to the dataset: https://github.com/tonmcg/US_County_Level_Election_Results_08-16/blob/master/2016_US_County_Level_Presidential_Results.csv\n",
    "- Number of observations: 3141\n",
    "\n",
    "(Copy this information for each dataset)\n",
    "- Dataset Name:\n",
    "- Link to the dataset:\n",
    "- Number of observations:\n",
    "\n",
    "1-2 sentences describing each dataset. \n",
    "\n",
    "If you plan to use multiple datasets, add 1-2 sentences about how you plan to combine these datasets."
   ]
  },
  {
   "cell_type": "markdown",
   "metadata": {},
   "source": [
    "# Setup"
   ]
  },
  {
   "cell_type": "code",
   "execution_count": 2,
   "metadata": {},
   "outputs": [],
   "source": [
    "## YOUR CODE HERE\n",
    "import numpy as np\n",
    "import pandas as pd"
   ]
  },
  {
   "cell_type": "markdown",
   "metadata": {},
   "source": [
    "# Data Cleaning"
   ]
  },
  {
   "cell_type": "markdown",
   "metadata": {},
   "source": [
    "Describe your data cleaning steps here."
   ]
  },
  {
   "cell_type": "code",
   "execution_count": 4,
   "metadata": {},
   "outputs": [],
   "source": [
    "## YOUR CODE HERE\n",
    "## FEEL FREE TO ADD MULTIPLE CELLS PER SECTION\n",
    "\n",
    "#demographic data from years 2000-2010\n",
    "demog2000 = pd.read_csv('co-est00int-sexracehisp.csv')\n",
    "\n",
    "#demographic data from years 2010-2017\n",
    "demog2010 = pd.read_csv('cc-est2017-alldata.csv')\n",
    "\n",
    "#population density by county\n",
    "countyDensities = pd.read_csv('ozone-county-population.csv')\n",
    "\n",
    "#election results 2000\n",
    "results2000 = pd.read_csv('COUNTY.csv')\n",
    "\n",
    "#election results 2004-2012\n",
    "results04_12 = pd.read_csv('us-presidential-election-county-results-2004-through-2012.csv')\n",
    "\n",
    "#election results 2016\n",
    "results2016 = pd.read_csv('2016_US_County_Level_Presidential_Results.csv')"
   ]
  },
  {
   "cell_type": "code",
   "execution_count": 12,
   "metadata": {},
   "outputs": [],
   "source": [
    "#From demog2000, drop all columns EXCEPT for STATE,COUNTY,SEX,ORIGIN,RACE,ESTIMATESBASE2000,POPESTIMATE2004,POPESTIMATE2008\n",
    "    \n",
    "#From demog2010, drop columns SUMLEV, STNAME, & CTYNAME\n",
    "\n",
    "#From countyDensities, drop columns STATE/TERRITORY NAME, COUNTY NAME, 2010 POPULATION , 2015 POPULATION\n",
    "\n",
    "#From results2000, drop all columns EXCEPT for: STATE,COUNTY,PBUSH,PGORE\n",
    "\n",
    "#From results04_12, drop all columns EXCEPT for: year, fips, pct_rep, pct_dem\n",
    "\n",
    "#From results2016, drop all columns EXCEPT for: per_dem, per_gop, & combined_fips\n",
    "\n",
    "\n",
    "##NOTE: Instead of doing an inplace drop, you can just make another separate dataframe as a subset of the old ones"
   ]
  },
  {
   "cell_type": "code",
   "execution_count": 38,
   "metadata": {},
   "outputs": [
    {
     "data": {
      "text/plain": [
       "str"
      ]
     },
     "execution_count": 38,
     "metadata": {},
     "output_type": "execute_result"
    }
   ],
   "source": [
    "#From demog2000, extract all rows with SEX=0, ORIGIN=0, & (RACE=0 or RACE=1), then make another column named \"fips\" which is\n",
    "#created by taking taking the 'STATE' & 'COUNTRY' rows and concatenating them together like in the function shown the cell below\n",
    "\n",
    "#More info here: https://en.wikipedia.org/wiki/FIPS_county_code\n",
    "\n",
    "#From demog2010, extract all rows with YEAR=5 or YEAR=9 & make another \"fips\" column the same as before\n",
    "\n",
    "#Make new dataframes demog2004 & demog2008 which contain subsets of demog2000 based on column year\n",
    "\n",
    "#Make new dataframes demog2012 & demog 2016 which contain subsets of demog2010. demog2012 contains only those from demog2010\n",
    "#with YEAR=5 & demog2016 with YEAR=9\n"
   ]
  },
  {
   "cell_type": "code",
   "execution_count": 42,
   "metadata": {},
   "outputs": [],
   "source": [
    "def combinedFIPS(stateFIPS, countyFIPS):\n",
    "    if (countyFIPS < 10):\n",
    "        return int(string(stateFIPS) + '00' + string(countyFIPS))\n",
    "    elif (countyFIPS < 100):\n",
    "        return int(string(stateFIPS) + '0' + string(countyFIPS))\n",
    "    else:\n",
    "        return int(string(stateFIPS) + string(countyFIPS))"
   ]
  },
  {
   "cell_type": "code",
   "execution_count": null,
   "metadata": {},
   "outputs": [],
   "source": [
    "#Create a new column for fips codes to standardize and merge. \n",
    "\n",
    "#From countyDensities, create a new column named \"fips\" which is simply the concatenation of the STATE FIPS & COUNTY FIPS\n",
    "#casted to an int\n",
    "\n",
    "#From results04_12, keep the \"fips\" column, but cast all elements in the entire column to ints\n",
    "\n",
    "#From results2016, rename the combined_fips col to just \"fips\"\n"
   ]
  },
  {
   "cell_type": "code",
   "execution_count": null,
   "metadata": {},
   "outputs": [],
   "source": [
    "#Create dataframe for 2000 results - merge it with countyDensities & demog2000 by combining names of states and counties because\n",
    "#FIPS is not provided. Then, make a new column named \"popDensity\" for population density. The value of this column is the county\n",
    "#population for that row divided by the county area column (taken from countyDensities). Make another column named pct_white,\n",
    "#which is the white population divided by the total population * 100 for that specific row.\n",
    "\n",
    "#Fore each other year, merge dataframes for that year with countyDensities & the corresponding demographic dataframe for that\n",
    "#  year and merge all by fips code. Repeat the same instructions as above."
   ]
  },
  {
   "cell_type": "code",
   "execution_count": 4,
   "metadata": {},
   "outputs": [],
   "source": [
    "#Create dataframe for 2004 results"
   ]
  },
  {
   "cell_type": "code",
   "execution_count": 6,
   "metadata": {},
   "outputs": [],
   "source": [
    "#Create dataframe for 2008 results"
   ]
  },
  {
   "cell_type": "code",
   "execution_count": null,
   "metadata": {},
   "outputs": [],
   "source": [
    "#Create dataframe for 2012 results"
   ]
  },
  {
   "cell_type": "code",
   "execution_count": 7,
   "metadata": {},
   "outputs": [],
   "source": [
    "#Create dataframe for 2016 results"
   ]
  },
  {
   "cell_type": "markdown",
   "metadata": {},
   "source": [
    "# Data Analysis & Results"
   ]
  },
  {
   "cell_type": "markdown",
   "metadata": {},
   "source": [
    "Include cells that describe the steps in your data analysis."
   ]
  },
  {
   "cell_type": "code",
   "execution_count": 5,
   "metadata": {},
   "outputs": [],
   "source": [
    "## YOUR CODE HERE\n",
    "## FEEL FREE TO ADD MULTIPLE CELLS PER SECTION\n",
    "\n",
    "#For each year, compare how correlated vote shares (either R% - D% or D% - R%) correlate with county density the % of white\n",
    "#population over time. i.e. how well can a county's density or white demographic predict it's electoral margin? Using\n",
    "#correlation coefficients for each year,"
   ]
  },
  {
   "cell_type": "markdown",
   "metadata": {},
   "source": [
    "# Ethics & Privacy"
   ]
  },
  {
   "cell_type": "markdown",
   "metadata": {},
   "source": [
    "*Fill in your ethics & privacy discussion here*"
   ]
  },
  {
   "cell_type": "markdown",
   "metadata": {},
   "source": [
    "# Conclusion & Discussion"
   ]
  },
  {
   "cell_type": "markdown",
   "metadata": {},
   "source": [
    "*Fill in your discussion information here*"
   ]
  }
 ],
 "metadata": {
  "kernelspec": {
   "display_name": "Python 3",
   "language": "python",
   "name": "python3"
  },
  "language_info": {
   "codemirror_mode": {
    "name": "ipython",
    "version": 3
   },
   "file_extension": ".py",
   "mimetype": "text/x-python",
   "name": "python",
   "nbconvert_exporter": "python",
   "pygments_lexer": "ipython3",
   "version": "3.6.7"
  }
 },
 "nbformat": 4,
 "nbformat_minor": 2
}
